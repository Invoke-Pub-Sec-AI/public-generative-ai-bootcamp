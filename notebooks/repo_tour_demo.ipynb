{
  "cells": [
    {
      "cell_type": "code",
      "metadata": {
        "id": "setup-colab-cell",
        "colab": {
          "base_uri": "https://localhost/"
        }
      },
      "source": "print('Setup complete.')",
      "outputs": [],
      "execution_count": null
    },
    {
      "cell_type": "markdown",
      "metadata": {},
      "source": [
        "# Guided Repository Tour\n",
        "\n",
        "## Learning Objectives\n",
        "- Navigate the bootcamp repository structure\n",
        "- Understand how labs, source code, and documentation are organized\n",
        "- Set up environment variables and configuration files\n",
        "- Use the repository effectively throughout the bootcamp\n",
        "\n",
        "## Repository Structure Overview\n",
        "This bootcamp repository is organized to support both learning and practical development:\n",
        "\n",
        "```\n",
        "generative-ai-bootcamp/\n",
        "├── lessons/           # Daily lessons and labs\n",
        "├── bootcamp_common/   # Shared utilities and helpers\n",
        "├── data/             # Sample data files\n",
        "├── examples/         # Code examples\n",
        "├── prompts/          # Prompt templates\n",
        "├── results/          # Output directory for lab results\n",
        "└── scripts/          # Utility scripts\n",
        "```"
      ]
    },
    {
      "cell_type": "code",
      "execution_count": 2,
      "metadata": {},
      "outputs": [
        {
          "name": "stdout",
          "output_type": "stream",
          "text": [
            "Current working directory:\n",
            "/Users/david/Documents/GitHub/generative-ai-bootcamp/lessons/day-01/morning/demo\n",
            "✓ Directory 'results' ready\n",
            "✓ Directory 'logs' ready\n",
            "✓ Directory 'data' ready\n"
          ]
        }
      ],
      "source": [
        "import os\n",
        "import sys\n",
        "from pathlib import Path\n",
        "\n",
        "# Set up the working environment\n",
        "print(\"Current working directory:\")\n",
        "print(os.getcwd())\n",
        "\n",
        "# Create necessary directories if they don't exist\n",
        "directories = ['results', 'logs', 'data']\n",
        "for dir_name in directories:\n",
        "    os.makedirs(dir_name, exist_ok=True)\n",
        "    print(f\"✓ Directory '{dir_name}' ready\")"
      ]
    },
    {
      "cell_type": "markdown",
      "metadata": {},
      "source": [
        "## Environment Setup\n",
        "\n",
        "For this bootcamp, you'll need API keys from various providers. Let's set up a secure way to manage these credentials."
      ]
    },
    {
      "cell_type": "code",
      "execution_count": null,
      "metadata": {},
      "outputs": [
        {
          "name": "stdout",
          "output_type": "stream",
          "text": [
            "📂 Current working directory: /Users/david/Documents/GitHub/generative-ai-bootcamp/lessons/day-01/morning/demo\n",
            "✗ credentials.json not found at root\n"
          ]
        }
      ],
      "source": [
        "import os\n",
        "\n",
        "def setup_api_keys_in_colab():\n",
        "    \"\"\"\n",
        "    Load AskSage API credentials from Colab Secrets and set environment variables.\n",
        "    \"\"\"\n",
        "    try:\n",
        "        from google.colab import userdata\n",
        "        print(\"ℹ️ Running in Google Colab. Attempting to fetch secrets…\")\n",
        "    except ImportError:\n",
        "        print(\"✗ Not a Colab environment. Please use credentials.json or .env instead.\")\n",
        "        return\n",
        "\n",
        "    # Attempt to fetch secrets\n",
        "    api_key = userdata.get('ASKSAGE_API_KEY')\n",
        "    if api_key:\n",
        "        os.environ[\"ASKSAGE_API_KEY\"] = api_key\n",
        "        print(\"✓ AskSage OpenAI API key set via Colab Secrets\")\n",
        "    else:\n",
        "        print(\"✗ OPENAI_API_KEY not found in Colab Secrets\")\n",
        "\n",
        "    username = userdata.get('ASKSAGE_EMAIL')\n",
        "    if username:\n",
        "        os.environ[\"ASKSAGE_EMAIL\"] = username\n",
        "        print(\"✓ AskSage email set via Colab Secrets\")\n",
        "    else:\n",
        "        print(\"✗ ASKSAGE_EMAIL not found in Colab Secrets\")\n",
        "\n",
        "    print(\"\\n✅ Environment setup complete via Colab Secrets!\")\n"
      ]
    },
    {
      "cell_type": "markdown",
      "metadata": {},
      "source": [
        "## Navigation Tips\n",
        "\n",
        "### Key Directories:\n",
        "- **`lessons/`**: Contains all daily lessons organized by day and time period\n",
        "- **`bootcamp_common/`**: Shared utilities you'll use across multiple labs\n",
        "- **`results/`**: Save your lab outputs here\n",
        "- **`prompts/`**: Template prompts for various tasks\n",
        "\n",
        "### File Naming Conventions:\n",
        "- Demo notebooks: `demo-topic-name.ipynb`\n",
        "- Lab notebooks: `lab-##-topic-name.ipynb`\n",
        "- Results: `results/lab-##-output.json` or similar\n"
      ]
    },
    {
      "cell_type": "code",
      "execution_count": 3,
      "metadata": {},
      "outputs": [
        {
          "name": "stdout",
          "output_type": "stream",
          "text": [
            "Bootcamp common utilities available:\n",
            "- ask_sage.py: Interface for interacting with AI models\n",
            "- github_api.py: GitHub API utilities\n",
            "- retry.py: Retry logic for API calls\n",
            "✓ Basic packages importable\n",
            "✓ Required directories exist\n",
            "✓ File writing works\n",
            "\n",
            "🎯 Environment test: 3/3 passed\n"
          ]
        },
        {
          "data": {
            "text/plain": [
              "True"
            ]
          },
          "execution_count": 3,
          "metadata": {},
          "output_type": "execute_result"
        }
      ],
      "source": [
        "# Let's explore the bootcamp_common utilities\n",
        "print(\"Bootcamp common utilities available:\")\n",
        "print(\"- ask_sage.py: Interface for interacting with AI models\")\n",
        "print(\"- github_api.py: GitHub API utilities\")\n",
        "print(\"- retry.py: Retry logic for API calls\")\n",
        "\n",
        "# Create a simple test to verify everything works\n",
        "def test_environment():\n",
        "    \"\"\"Test that our environment is set up correctly\"\"\"\n",
        "    tests_passed = 0\n",
        "    total_tests = 3\n",
        "    \n",
        "    # Test 1: Check if we can import basic packages\n",
        "    try:\n",
        "        import json\n",
        "        import requests\n",
        "        print(\"✓ Basic packages importable\")\n",
        "        tests_passed += 1\n",
        "    except ImportError as e:\n",
        "        print(f\"✗ Import error: {e}\")\n",
        "    \n",
        "    # Test 2: Check if directories exist\n",
        "    required_dirs = ['results', 'logs']\n",
        "    if all(os.path.exists(d) for d in required_dirs):\n",
        "        print(\"✓ Required directories exist\")\n",
        "        tests_passed += 1\n",
        "    else:\n",
        "        print(\"✗ Some required directories missing\")\n",
        "    \n",
        "    # Test 3: Check if we can write files\n",
        "    try:\n",
        "        with open('results/test.txt', 'w') as f:\n",
        "            f.write('test')\n",
        "        os.remove('results/test.txt')\n",
        "        print(\"✓ File writing works\")\n",
        "        tests_passed += 1\n",
        "    except Exception as e:\n",
        "        print(f\"✗ File writing error: {e}\")\n",
        "    \n",
        "    print(f\"\\n🎯 Environment test: {tests_passed}/{total_tests} passed\")\n",
        "    return tests_passed == total_tests\n",
        "\n",
        "# Run the environment test\n",
        "test_environment()"
      ]
    },
    {
      "cell_type": "markdown",
      "metadata": {},
      "source": [
        "## What's Next?\n",
        "\n",
        "Now that you've toured the repository structure, you're ready to:\n",
        "\n",
        "1. **Complete Lab 1**: Environment bootstrap to get your development environment fully configured\n",
        "2. **Explore the `bootcamp_common` utilities**: These will be your helpful tools throughout the bootcamp\n",
        "3. **Check out the `prompts/` directory**: Pre-built prompts to help you get started\n",
        "\n",
        "✅ **Repository tour complete! You're ready to dive into the labs.**"
      ]
    }
  ],
  "metadata": {
    "kernelspec": {
      "display_name": ".venv",
      "language": "python",
      "name": "python3"
    },
    "language_info": {
      "codemirror_mode": {
        "name": "ipython",
        "version": 3
      },
      "file_extension": ".py",
      "mimetype": "text/x-python",
      "name": "python",
      "nbconvert_exporter": "python",
      "pygments_lexer": "ipython3",
      "version": "3.13.5"
    },
    "colab": {
      "provenance": []
    }
  },
  "nbformat": 4,
  "nbformat_minor": 4
}