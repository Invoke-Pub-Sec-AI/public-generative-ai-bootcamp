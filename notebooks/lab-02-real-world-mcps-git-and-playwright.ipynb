{
  "cells": [
    {
      "cell_type": "code",
      "metadata": {
        "id": "setup-colab-cell",
        "colab": {
          "base_uri": "https://localhost/"
        }
      },
      "source": "print('Setup complete.')",
      "outputs": [],
      "execution_count": null
    },
    {
      "cell_type": "markdown",
      "id": "26f89bb3ad814739b93a6cd0f336b3c7",
      "metadata": {},
      "source": [
        "# Lab 02: Real-World MCPS - Git and Playwright\n",
        "\n",
        "## Learning Objectives\n",
        "- Understand how MCPS can wrap complex, real-world tools like Git and Playwright\n",
        "- Implement a mock agent that uses a `git` MCP server to check the status of a repository\n",
        "- Implement a mock agent that uses a `playwright` MCP server to interact with a web page\n",
        "- See how agents can perform complex, stateful operations through the MCPS protocol\n",
        "\n",
        "## Setup"
      ]
    },
    {
      "cell_type": "code",
      "execution_count": null,
      "id": "933d6670683e421b8b875e5bdabed823",
      "metadata": {},
      "outputs": [],
      "source": [
        "from typing import List, Dict, Any, Callable\n",
        "from dataclasses import dataclass, field\n",
        "import json"
      ]
    },
    {
      "cell_type": "markdown",
      "id": "cc65e84257764df4a34376b223116109",
      "metadata": {},
      "source": [
        "## Part 1: A Mock `git` MCP Server\n",
        "\n",
        "Imagine an MCP server that provides access to Git commands. An agent could use this to read files, check for changes, and even commit them, all without having direct shell access."
      ]
    },
    {
      "cell_type": "code",
      "execution_count": null,
      "id": "ed79880fc97f4e07ad3d20b389932609",
      "metadata": {},
      "outputs": [],
      "source": [
        "# --- Mock MCP Server Infrastructure (from Lab 01) ---\n",
        "@dataclass\n",
        "class MCPResource:\n",
        "    name: str\n",
        "    description: str\n",
        "    handler: Callable[..., Any]\n",
        "\n",
        "class MockMCPServer:\n",
        "    def __init__(self, name: str):\n",
        "        self.name = name\n",
        "        self.resources: Dict[str, MCPResource] = {}\n",
        "\n",
        "    def register_resource(self, resource: MCPResource):\n",
        "        self.resources[resource.name] = resource\n",
        "\n",
        "    def list_resources(self) -> List[Dict[str, str]]:\n",
        "        return [{'name': r.name, 'description': r.description} for r in self.resources.values()]\n",
        "\n",
        "    def execute_resource(self, name: str, args: Dict) -> Any:\n",
        "        if name not in self.resources: return f'Error: Resource \"{name}\" not found.'\n",
        "        try:\n",
        "            return self.resources[name].handler(**args)\n",
        "        except Exception as e: return f'Error: {e}'\n",
        "\n",
        "# --- Mock Git Tools ---\n",
        "def git_status(repo_path: str) -> str:\n",
        "    # In a real system, this would run `git status` in the specified directory\n",
        "    if repo_path == '/path/to/my/project':\n",
        "        return 'On branch main\\nYour branch is up to date with \\'origin/main\\'.\\n\\nChanges not staged for commit:\\n  (use \"git add <file>...\" to update what will be committed)\\n  (use \"git restore <file>...\" to discard changes in working directory)\\n\\tmodified:   README.md\\n'\n",
        "    return f'Error: Not a git repository: {repo_path}'\n",
        "\n",
        "# --- Setup the Git MCP Server ---\n",
        "git_server = MockMCPServer(name='gitmcp')\n",
        "git_server.register_resource(MCPResource(\n",
        "    name='git_status',\n",
        "    description='Shows the working tree status of a Git repository.',\n",
        "    handler=git_status\n",
        "))"
      ]
    },
    {
      "cell_type": "markdown",
      "id": "65fb1add176045089f07e75edb4d0f58",
      "metadata": {},
      "source": [
        "### Using the `git` Server"
      ]
    },
    {
      "cell_type": "code",
      "execution_count": null,
      "id": "1614bd1a6df943cb8e2ac93407e2bf89",
      "metadata": {},
      "outputs": [],
      "source": [
        "# An agent wants to check for modified files in a project.\n",
        "query = 'Are there any modified files in the repo at /path/to/my/project?'\n",
        "\n",
        "# Mock LLM logic to generate a tool call\n",
        "tool_call = {\n",
        "    'server': 'gitmcp',\n",
        "    'resource': 'git_status',\n",
        "    'args': {'repo_path': '/path/to/my/project'}\n",
        "}\n",
        "\n",
        "print(f'--- Agent wants to run: {tool_call[\"resource\"]}(\"{tool_call[\"args\"][\"repo_path\"]}\") ---\\n')\n",
        "\n",
        "# Execute the call\n",
        "result = git_server.execute_resource(tool_call['resource'], tool_call['args'])\n",
        "\n",
        "print(f'Observation:\n",
        "{result}')"
      ]
    },
    {
      "cell_type": "markdown",
      "id": "03802f08478d42ad940fc55070a823f3",
      "metadata": {},
      "source": [
        "## Part 2: A Mock `playwright` MCP Server\n",
        "\n",
        "Playwright is a tool for browser automation. An MCP server wrapping Playwright would allow an agent to navigate web pages, fill out forms, and extract information—a powerful capability for web-based tasks."
      ]
    },
    {
      "cell_type": "code",
      "execution_count": null,
      "id": "d9af0a6a65ec4521ace381e1ec294568",
      "metadata": {},
      "outputs": [],
      "source": [
        "# --- Mock Playwright Tools ---\n",
        "class MockBrowserPage:\n",
        "    def __init__(self):\n",
        "        self.url = ''\n",
        "        self.content = ''\n",
        "\n",
        "    def navigate(self, url: str) -> str:\n",
        "        self.url = url\n",
        "        if 'example.com' in url:\n",
        "            self.content = '<html><body><h1>Welcome to Example.com</h1><p>This is a test page.</p></body></html>'\n",
        "            return f'Successfully navigated to {url}'\n",
        "        return f'Error: Could not navigate to {url}'\n",
        "\n",
        "    def get_content(self) -> str:\n",
        "        return self.content\n",
        "\n",
        "# A single browser instance that the server manages\n",
        "browser_page = MockBrowserPage()\n",
        "\n",
        "# --- Setup the Playwright MCP Server ---\n",
        "playwright_server = MockMCPServer(name='playwright')\n",
        "playwright_server.register_resource(MCPResource(\n",
        "    name='navigate',\n",
        "    description='Navigates the browser to a specific URL.',\n",
        "    handler=browser_page.navigate\n",
        "))\n",
        "playwright_server.register_resource(MCPResource(\n",
        "    name='get_content',\n",
        "    description='Returns the full HTML content of the current page.',\n",
        "    handler=browser_page.get_content\n",
        "))"
      ]
    },
    {
      "cell_type": "markdown",
      "id": "3e35853d53e444038c9a40ef2391475d",
      "metadata": {},
      "source": [
        "### Using the `playwright` Server"
      ]
    },
    {
      "cell_type": "code",
      "execution_count": null,
      "id": "57614173eee84b51afe8f02033e6428b",
      "metadata": {},
      "outputs": [],
      "source": [
        "# An agent wants to find the title of a webpage.\n",
        "goal = 'Find the H1 title on the page http://example.com'\n",
        "\n",
        "# This would be a ReAct or Plan-and-Execute agent loop.\n",
        "# Step 1: Navigate to the page\n",
        "tool_call_1 = {'server': 'playwright', 'resource': 'navigate', 'args': {'url': 'http://example.com'}}\n",
        "result_1 = playwright_server.execute_resource(tool_call_1['resource'], tool_call_1['args'])\n",
        "print(f'Step 1 Observation: {result_1}')\n",
        "\n",
        "# Step 2: Get the content of the page\n",
        "tool_call_2 = {'server': 'playwright', 'resource': 'get_content', 'args': {}}\n",
        "result_2 = playwright_server.execute_resource(tool_call_2['resource'], tool_call_2['args'])\n",
        "print(f'\\nStep 2 Observation: Got page content (length: {len(result_2)})')\n",
        "\n",
        "# Step 3: The agent's LLM would parse the HTML to find the H1 tag.\n",
        "# (This step is internal to the agent, not a tool call)\n",
        "import re\n",
        "match = re.search(r'<h1>(.*)</h1>', result_2)\n",
        "final_answer = match.group(1) if match else 'H1 not found.'\n",
        "\n",
        "print(f'\\nFinal Answer: {final_answer}')"
      ]
    },
    {
      "cell_type": "markdown",
      "id": "e843aa07fba9401490b591caebd68282",
      "metadata": {},
      "source": [
        "## Exercises\n",
        "\n",
        "1. **Add a `git_commit` Resource**: Implement a mock `git_commit(repo_path: str, message: str)` function. Register it with the `git_server`. Then, create a sequence of tool calls for an agent that wants to commit the `README.md` file with the message \"Update README\".\n",
        "2. **Add a `playwright_click` Resource**: Implement a mock `click(selector: str)` method on the `MockBrowserPage` class. It should return a success message if the selector is valid (e.g., `'a#link'`) and an error otherwise. Register this new resource with the `playwright_server`.\n",
        "3. **Create a Central Agent Dispatcher**: Write a function `dispatch_tool_call(tool_call: Dict)` that takes a tool call dictionary (containing `server`, `resource`, and `args`). This function should look up the correct server from a dictionary of servers (`{'gitmcp': git_server, 'playwright': playwright_server}`) and execute the resource on the correct one. This simulates how a real agent would manage connections to multiple MCP servers.\n",
        "\n",
        "## Summary\n",
        "\n",
        "You learned:\n",
        "- How complex, real-world applications like **Git** and **Playwright** can be wrapped by MCP servers to provide tools for AI agents.\n",
        "- That agents can perform **stateful operations** (like navigating a browser and then getting its content) by making a sequence of tool calls.\n",
        "- This architecture allows agents to operate on real-world systems (like codebases and websites) in a structured and secure way, without needing direct access to the underlying environment."
      ]
    }
  ],
  "metadata": {
    "kernelspec": {
      "display_name": "Python 3",
      "language": "python",
      "name": "python3"
    },
    "colab": {
      "provenance": []
    }
  },
  "nbformat": 4,
  "nbformat_minor": 4
}