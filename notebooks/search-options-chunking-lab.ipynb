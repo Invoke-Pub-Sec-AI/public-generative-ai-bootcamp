{
  "cells": [
    {
      "cell_type": "code",
      "metadata": {
        "id": "setup-colab-cell",
        "colab": {
          "base_uri": "https://localhost/"
        }
      },
      "source": "print('Setup complete.')",
      "outputs": [],
      "execution_count": null
    },
    {
      "cell_type": "markdown",
      "metadata": {},
      "source": [
        "# Search Options & Chunking - Lab\n",
        "\n",
        "**Hands-on**: compare dense-only vs hybrid on one query; record latency and quality.\n",
        "**Deliverable**: comparison table.\n",
        "\n",
        "## Instructions\n",
        "\n",
        "In this lab, you will implement and compare different retrieval strategies to understand their performance trade-offs. You'll build both dense-only and hybrid retrievers, test them with the same query, and create a detailed comparison table.\n",
        "\n",
        "## Success Criteria\n",
        "- Implement dense-only retrieval with embeddings\n",
        "- Implement hybrid retrieval (dense + sparse)\n",
        "- Test both methods with the same query\n",
        "- Measure and record latency for each method\n",
        "- Evaluate quality of results\n",
        "- Create a comprehensive comparison table\n",
        "\n",
        "## Learning Objectives\n",
        "- Understand practical differences between retrieval methods\n",
        "- Learn to measure and compare system performance\n",
        "- Practice building different retrieval strategies\n",
        "- Develop skills in performance evaluation and analysis"
      ]
    },
    {
      "cell_type": "code",
      "metadata": {},
      "source": [
        "# TODO: Install required packages for Google Colab\n",
        "# Install: langchain, langchain-openai, langchain-community, faiss-cpu, tiktoken, rank_bm25, pandas, numpy\n",
        "# Import all necessary modules for document processing, embeddings, vector stores, and retrievers\n",
        "# Import time for latency measurement and pandas for creating comparison tables\n",
        "# Set up your OpenAI API key\n",
        "# Print confirmation that all packages are installed successfully"
      ],
      "execution_count": null,
      "outputs": []
    },
    {
      "cell_type": "markdown",
      "metadata": {},
      "source": [
        "## Step 1: Prepare Your Dataset\n",
        "\n",
        "Create a diverse set of documents with rich content for testing retrieval methods."
      ]
    },
    {
      "cell_type": "code",
      "metadata": {},
      "source": [
        "# TODO: Create 8-10 sample documents on a topic of your choice\n",
        "# Each document should be 100-200 words long\n",
        "# Include diverse content that covers different aspects of your chosen topic\n",
        "# Add metadata to each document (e.g., category, difficulty, author, date)\n",
        "# Convert to LangChain Document objects\n",
        "# Print the total number of documents and preview the first document"
      ],
      "execution_count": null,
      "outputs": []
    },
    {
      "cell_type": "markdown",
      "metadata": {},
      "source": [
        "## Step 2: Document Chunking\n",
        "\n",
        "Split your documents into appropriate chunks for retrieval processing."
      ]
    },
    {
      "cell_type": "code",
      "metadata": {},
      "source": [
        "# TODO: Initialize a RecursiveCharacterTextSplitter\n",
        "# Use chunk_size=200 and chunk_overlap=30 for optimal performance\n",
        "# Split your documents into chunks\n",
        "# Print statistics: original document count vs chunk count\n",
        "# Display an example of an original document vs its chunks"
      ],
      "execution_count": null,
      "outputs": []
    },
    {
      "cell_type": "markdown",
      "metadata": {},
      "source": [
        "## Step 3: Build Dense-Only Retriever\n",
        "\n",
        "Create a retriever that uses only embedding-based similarity search."
      ]
    },
    {
      "cell_type": "code",
      "metadata": {},
      "source": [
        "# TODO: Initialize OpenAI embeddings\n",
        "# Create a FAISS vector store from your document chunks\n",
        "# Create a retriever from the vector store with k=5 results\n",
        "# Print confirmation that the dense retriever is ready\n",
        "# Include the number of vectors in the store"
      ],
      "execution_count": null,
      "outputs": []
    },
    {
      "cell_type": "markdown",
      "metadata": {},
      "source": [
        "## Step 4: Build Sparse (BM25) Retriever\n",
        "\n",
        "Create a keyword-based retriever using BM25 algorithm."
      ]
    },
    {
      "cell_type": "code",
      "metadata": {},
      "source": [
        "# TODO: Create a BM25Retriever from your document chunks\n",
        "# Set k=5 to match the dense retriever\n",
        "# Print confirmation that the sparse retriever is ready"
      ],
      "execution_count": null,
      "outputs": []
    },
    {
      "cell_type": "markdown",
      "metadata": {},
      "source": [
        "## Step 5: Build Hybrid Retriever\n",
        "\n",
        "Combine dense and sparse retrievers using EnsembleRetriever."
      ]
    },
    {
      "cell_type": "code",
      "metadata": {},
      "source": [
        "# TODO: Create an EnsembleRetriever combining dense and sparse retrievers\n",
        "# Use equal weights [0.5, 0.5] for balanced performance\n",
        "# Print confirmation that the hybrid retriever is ready"
      ],
      "execution_count": null,
      "outputs": []
    },
    {
      "cell_type": "markdown",
      "metadata": {},
      "source": [
        "## Step 6: Define Your Test Query\n",
        "\n",
        "Choose a specific query that will test both semantic understanding and keyword matching."
      ]
    },
    {
      "cell_type": "code",
      "metadata": {},
      "source": [
        "# TODO: Define a test query relevant to your document content\n",
        "# The query should be 5-10 words long\n",
        "# It should contain both conceptual terms (good for dense) and specific keywords (good for sparse)\n",
        "# Print the query you'll be testing\n",
        "# Explain why this query is good for comparing different retrieval methods"
      ],
      "execution_count": null,
      "outputs": []
    },
    {
      "cell_type": "markdown",
      "metadata": {},
      "source": [
        "## Step 7: Test Dense-Only Retrieval\n",
        "\n",
        "Measure the performance of your dense retriever."
      ]
    },
    {
      "cell_type": "code",
      "metadata": {},
      "source": [
        "# TODO: Record start time before running the query\n",
        "# Run your test query through the dense retriever\n",
        "# Record end time and calculate latency\n",
        "# Display the retrieved documents with their content and metadata\n",
        "# Store the results and timing for later comparison"
      ],
      "execution_count": null,
      "outputs": []
    },
    {
      "cell_type": "markdown",
      "metadata": {},
      "source": [
        "## Step 8: Test Hybrid Retrieval\n",
        "\n",
        "Measure the performance of your hybrid retriever with the same query."
      ]
    },
    {
      "cell_type": "code",
      "metadata": {},
      "source": [
        "# TODO: Record start time before running the query\n",
        "# Run the same test query through the hybrid retriever\n",
        "# Record end time and calculate latency\n",
        "# Display the retrieved documents with their content and metadata\n",
        "# Store the results and timing for comparison"
      ],
      "execution_count": null,
      "outputs": []
    },
    {
      "cell_type": "markdown",
      "metadata": {},
      "source": [
        "## Step 9: Quality Assessment\n",
        "\n",
        "Evaluate the quality of results from both retrieval methods."
      ]
    },
    {
      "cell_type": "code",
      "metadata": {},
      "source": [
        "# TODO: For each set of results, assess the following quality metrics:\n",
        "# 1. Relevance: How well do the results match the query intent? (Rate 1-5)\n",
        "# 2. Diversity: How many different topics/categories are covered?\n",
        "# 3. Precision: What percentage of results are actually relevant?\n",
        "# 4. Coverage: Does the result set cover the main aspects of the query?\n",
        "# Create variables to store these quality scores for both methods"
      ],
      "execution_count": null,
      "outputs": []
    },
    {
      "cell_type": "markdown",
      "metadata": {},
      "source": [
        "## Step 10: Create Comparison Table\n",
        "\n",
        "Build a comprehensive comparison table showing all metrics."
      ]
    },
    {
      "cell_type": "code",
      "metadata": {},
      "source": [
        "# TODO: Create a pandas DataFrame with the following structure:\n",
        "# Columns: Metric, Dense-Only, Hybrid, Winner\n",
        "# Rows should include:\n",
        "# - Latency (seconds)\n",
        "# - Number of Results\n",
        "# - Relevance Score (1-5)\n",
        "# - Diversity Score (unique categories)\n",
        "# - Precision Score (% relevant)\n",
        "# - Coverage Score (1-5)\n",
        "# For each row, determine and mark the \"Winner\" (Dense-Only, Hybrid, or Tie)\n",
        "# Display the comparison table with proper formatting"
      ],
      "execution_count": null,
      "outputs": []
    },
    {
      "cell_type": "markdown",
      "metadata": {},
      "source": [
        "## Step 11: Detailed Results Analysis\n",
        "\n",
        "Provide detailed analysis of the differences between methods."
      ]
    },
    {
      "cell_type": "code",
      "metadata": {},
      "source": [
        "# TODO: Create a detailed analysis including:\n",
        "# 1. Side-by-side comparison of actual retrieved documents\n",
        "# 2. Identification of unique results in each method\n",
        "# 3. Analysis of why certain documents were retrieved by one method but not the other\n",
        "# 4. Discussion of the trade-offs observed\n",
        "# Print this analysis in a structured format"
      ],
      "execution_count": null,
      "outputs": []
    },
    {
      "cell_type": "markdown",
      "metadata": {},
      "source": [
        "## Step 12: Performance Summary\n",
        "\n",
        "Summarize your findings and provide recommendations."
      ]
    },
    {
      "cell_type": "code",
      "metadata": {},
      "source": [
        "# TODO: Create a summary that includes:\n",
        "# 1. Overall winner based on your specific use case and query\n",
        "# 2. Scenarios where dense-only might be preferred\n",
        "# 3. Scenarios where hybrid might be preferred\n",
        "# 4. Key insights about the performance differences\n",
        "# 5. Recommendations for production use\n",
        "# Format this as a professional summary report"
      ],
      "execution_count": null,
      "outputs": []
    },
    {
      "cell_type": "markdown",
      "metadata": {},
      "source": [
        "## Bonus Challenges (Optional)\n",
        "\n",
        "If you complete the main lab early, try these additional experiments:"
      ]
    },
    {
      "cell_type": "code",
      "metadata": {},
      "source": [
        "# TODO BONUS 1: Weight Optimization\n",
        "# Test different weight combinations for the hybrid retriever\n",
        "# Try [0.7, 0.3], [0.3, 0.7], and [0.8, 0.2]\n",
        "# Determine which weighting works best for your query and content"
      ],
      "execution_count": null,
      "outputs": []
    },
    {
      "cell_type": "code",
      "metadata": {},
      "source": [
        "# TODO BONUS 2: Multiple Query Testing\n",
        "# Test both methods with 3-5 different queries\n",
        "# Create an expanded comparison table showing performance across all queries\n",
        "# Identify patterns in when each method performs better"
      ],
      "execution_count": null,
      "outputs": []
    },
    {
      "cell_type": "code",
      "metadata": {},
      "source": [
        "# TODO BONUS 3: Chunking Strategy Impact\n",
        "# Create a second set of chunks with different parameters (e.g., chunk_size=400)\n",
        "# Test how chunking strategy affects the performance of both retrieval methods\n",
        "# Add chunking strategy results to your comparison table"
      ],
      "execution_count": null,
      "outputs": []
    },
    {
      "cell_type": "code",
      "metadata": {},
      "source": [
        "# TODO BONUS 4: Metadata Filtering Impact\n",
        "# Test how adding metadata filters affects both dense and hybrid retrieval\n",
        "# Compare filtered vs unfiltered results for both methods\n",
        "# Analyze the impact on latency and result quality"
      ],
      "execution_count": null,
      "outputs": []
    },
    {
      "cell_type": "markdown",
      "metadata": {},
      "source": [
        "## Final Deliverable\n",
        "\n",
        "Your completed lab should produce a comprehensive comparison table with the following structure:\n",
        "\n",
        "| Metric | Dense-Only | Hybrid | Winner |\n",
        "|--------|------------|--------|--------|\n",
        "| Latency (sec) | X.XXXX | X.XXXX | [Method] |\n",
        "| Results Count | X | X | [Method] |\n",
        "| Relevance (1-5) | X.X | X.X | [Method] |\n",
        "| Diversity Score | X | X | [Method] |\n",
        "| Precision (%) | XX% | XX% | [Method] |\n",
        "| Coverage (1-5) | X.X | X.X | [Method] |\n",
        "\n",
        "## Submission Checklist\n",
        "\n",
        "Before completing this lab, ensure you have:\n",
        "\n",
        "- [ ] Successfully implemented both dense-only and hybrid retrievers\n",
        "- [ ] Tested both methods with the same query\n",
        "- [ ] Measured latency accurately for both methods\n",
        "- [ ] Evaluated quality using multiple metrics\n",
        "- [ ] Created a detailed comparison table\n",
        "- [ ] Provided analysis and recommendations\n",
        "- [ ] Documented your findings clearly\n",
        "\n",
        "**Final Deliverable**: A comparison table showing latency and quality metrics for dense-only vs hybrid retrieval methods, along with analysis and recommendations."
      ]
    }
  ],
  "metadata": {
    "kernelspec": {
      "display_name": "Python 3",
      "language": "python",
      "name": "python3"
    },
    "language_info": {
      "codemirror_mode": {
        "name": "ipython",
        "version": 3
      },
      "file_extension": ".py",
      "mimetype": "text/x-python",
      "name": "python",
      "nbconvert_exporter": "python",
      "pygments_lexer": "ipython3",
      "version": "3.8.0"
    },
    "colab": {
      "provenance": []
    }
  },
  "nbformat": 4,
  "nbformat_minor": 4
}