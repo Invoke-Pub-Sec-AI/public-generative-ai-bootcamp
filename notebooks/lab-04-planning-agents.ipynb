{
  "cells": [
    {
      "cell_type": "code",
      "metadata": {
        "id": "setup-colab-cell",
        "colab": {
          "base_uri": "https://localhost/"
        }
      },
      "source": "print('Setup complete.')",
      "outputs": [],
      "execution_count": null
    },
    {
      "cell_type": "markdown",
      "id": "50fa8a6ca5c7402eac000759c8f9b143",
      "metadata": {},
      "source": [
        "# Lab 04: Planning Agents (Plan-and-Execute)\n",
        "\n",
        "## Learning Objectives\n",
        "- Understand the Plan-and-Execute agent architecture\n",
        "- Differentiate between a 'Planner' and an 'Executor'\n",
        "- Implement a system where one LLM creates a plan and another executes it\n",
        "- See how structured planning can solve more complex, multi-step goals\n",
        "\n",
        "## Setup"
      ]
    },
    {
      "cell_type": "code",
      "execution_count": null,
      "id": "5addefe8014d4ec58d000d3f6a714692",
      "metadata": {},
      "outputs": [],
      "source": [
        "import json\n",
        "from typing import List, Dict, Any"
      ]
    },
    {
      "cell_type": "markdown",
      "id": "60852b97a1414897bff60b2c21fc97f4",
      "metadata": {},
      "source": [
        "## Part 1: The Planner and Executor Roles\n",
        "\n",
        "The Plan-and-Execute model splits the problem-solving process into two distinct phases:\n",
        "\n",
        "1.  **Planner**: An LLM that receives the user's high-level goal and breaks it down into a sequence of concrete, executable steps. It does not use tools; it only thinks and plans.\n",
        "2.  **Executor**: An agent (often a ReAct-style agent) that takes one step from the plan at a time and executes it. The executor has access to tools and is focused on completing its single task.\n",
        "\n",
        "This separation of concerns makes the agent more robust. The planner can focus on the high-level strategy without getting bogged down in execution details, and the executor can focus on the immediate step without needing to understand the overall goal."
      ]
    },
    {
      "cell_type": "code",
      "execution_count": null,
      "id": "f47a388493d94dc788ad17685252689f",
      "metadata": {},
      "outputs": [],
      "source": [
        "# --- Mock Tools (reused from previous labs) ---\n",
        "def search(query: str) -> str:\n",
        "    if 'french revolution' in query.lower():\n",
        "        return 'The French Revolution was a period of social and political upheaval in France from 1789 to 1799.'\n",
        "    if 'napoleon bonaparte' in query.lower():\n",
        "        return 'Napoleon Bonaparte was a French military and political leader who rose to prominence during the French Revolution.'\n",
        "    return 'Information not found.'\n",
        "\n",
        "def write_file(filename: str, content: str) -> str:\n",
        "    print(f'--- Writing to file: {filename} ---\n",
        "{content}\n",
        "--------------------')\n",
        "    return f'Successfully wrote content to {filename}.'\n",
        "\n",
        "# --- Mock LLMs for Planner and Executor ---\n",
        "class PlannerLLM:\n",
        "    def create_plan(self, goal: str) -> Dict[str, List[Dict[str, str]]]:\n",
        "        if 'french revolution' in goal.lower() and 'napoleon' in goal.lower():\n",
        "            plan = {\n",
        "                'steps': [\n",
        "                    {'step': 1, 'instruction': 'Find information about the French Revolution.', 'tool': 'search', 'args': 'French Revolution'},\n",
        "                    {'step': 2, 'instruction': 'Find information about Napoleon Bonaparte.', 'tool': 'search', 'args': 'Napoleon Bonaparte'},\n",
        "                    {'step': 3, 'instruction': 'Combine the gathered information into a summary.', 'tool': 'none', 'args': ''},\n",
        "                    {'step': 4, 'instruction': 'Write the summary to a file named summary.txt.', 'tool': 'write_file', 'args': {'filename': 'summary.txt', 'content': '<summary_from_step_3>'}}\n",
        "                ]\n",
        "            }\n",
        "            return plan\n",
        "        return {'steps': []}\n",
        "\n",
        "class ExecutorAgent:\n",
        "    def __init__(self, tools: Dict):\n",
        "        self.tools = tools\n",
        "\n",
        "    def execute_step(self, step: Dict, context: Dict) -> str:\n",
        "        tool_name = step['tool']\n",
        "        if tool_name == 'none':\n",
        "            # This step is for internal processing, like summarizing\n",
        "            info1 = context.get('step_1_result', '')\n",
        "            info2 = context.get('step_2_result', '')\n",
        "            return f'Summary: {info1} {info2}'\n",
        "        \n",
        "        tool_function = self.tools.get(tool_name)\n",
        "        if not tool_function:\n",
        "            return f'Error: Tool {tool_name} not found.'\n",
        "            \n",
        "        # Handle argument substitution from context\n",
        "        args = step['args']\n",
        "        if isinstance(args, dict):\n",
        "            if args['content'] == '<summary_from_step_3>':\n",
        "                args['content'] = context.get('step_3_result', '')\n",
        "            return tool_function(**args)\n",
        "        else:\n",
        "            return tool_function(args)\n"
      ]
    },
    {
      "cell_type": "markdown",
      "id": "93e43bef8271428e9ccd3e00c2ac7b13",
      "metadata": {},
      "source": [
        "## Part 2: The Plan-and-Execute Loop"
      ]
    },
    {
      "cell_type": "code",
      "execution_count": null,
      "id": "29df2157850c42018a18a6106e5dcec9",
      "metadata": {},
      "outputs": [],
      "source": [
        "def run_plan_and_execute(goal: str):\n",
        "    # 1. Planning Phase\n",
        "    print(f'Goal: {goal}')\n",
        "    planner = PlannerLLM()\n",
        "    plan = planner.create_plan(goal)\n",
        "    print(f'\\nPlanner created a {len(plan[\"steps\"])}-step plan.')\n",
        "    for s in plan['steps']:\n",
        "        print(f'  - Step {s[\"step\"]}: {s[\"instruction\"]}')\n",
        "    \n",
        "    # 2. Execution Phase\n",
        "    print(\"\n",
        "--- Starting Execution ---\")\n",
        "    available_tools = {'search': search, 'write_file': write_file}\n",
        "    executor = ExecutorAgent(tools=available_tools)\n",
        "    execution_context = {} # Stores results from previous steps\n",
        "    \n",
        "    for step in plan['steps']:\n",
        "        print(f'\\nExecuting Step {step[\"step\"]}: {step[\"instruction\"]}')\n",
        "        result = executor.execute_step(step, execution_context)\n",
        "        print(f'Result: {result}')\n",
        "        \n",
        "        # Store the result in the context for future steps\n",
        "        execution_context[f'step_{step[\"step\"]}_result'] = result\n",
        "        \n",
        "    print(\"\n",
        "--- Plan Finished ---\")\n",
        "    return execution_context.get(f'step_{len(plan[\"steps\"])}_result')\n",
        "\n",
        "# --- Run the Agent ---\n",
        "goal = 'Research the French Revolution and Napoleon, then write a summary to a file.'\n",
        "final_result = run_plan_and_execute(goal)"
      ]
    },
    {
      "cell_type": "markdown",
      "id": "1f6e924aaa174747a32c8978c3db3df9",
      "metadata": {},
      "source": [
        "## Exercises\n",
        "\n",
        "1. **Implement Plan Re-evaluation**: What if a step fails? In the `run_plan_and_execute` loop, if an executor step returns an error, the agent should stop, send the original goal and the error back to the `PlannerLLM`, and ask it to generate a *new* plan. This creates a feedback loop.\n",
        "2. **Dynamic Argument Substitution**: The current argument substitution is hard-coded (`<summary_from_step_3>`). Generalize it. The planner should be able to specify a placeholder like `{{step_2_result}}` in the arguments, and the executor should be able to replace it with the actual value from the `execution_context`.\n",
        "3. **Create a More Complex Plan**: Think of a more complex goal, like \"Find the top 3 trending news articles, summarize each one, and save them to three separate files.\" Modify the `PlannerLLM` to generate a plan for this goal. You will likely need to add a new tool, `get_trending_articles()`.\n",
        "\n",
        "## Summary\n",
        "\n",
        "You learned:\n",
        "- The **Plan-and-Execute** architecture, which separates high-level planning from low-level execution.\n",
        "- The role of the **Planner** in decomposing a complex goal into a structured, step-by-step plan.\n",
        "- The role of the **Executor** in carrying out each step of the plan using a set of available tools.\n",
        "- How this architecture enables agents to solve more complex problems by maintaining a clear strategy while handling execution details separately."
      ]
    }
  ],
  "metadata": {
    "kernelspec": {
      "display_name": "Python 3",
      "language": "python",
      "name": "python3"
    },
    "colab": {
      "provenance": []
    }
  },
  "nbformat": 4,
  "nbformat_minor": 4
}