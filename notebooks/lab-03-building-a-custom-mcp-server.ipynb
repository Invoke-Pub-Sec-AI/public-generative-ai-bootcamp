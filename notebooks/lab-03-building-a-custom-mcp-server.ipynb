{
  "cells": [
    {
      "cell_type": "code",
      "metadata": {
        "id": "setup-colab-cell",
        "colab": {
          "base_uri": "https://localhost/"
        }
      },
      "source": "print('Setup complete.')",
      "outputs": [],
      "execution_count": null
    },
    {
      "cell_type": "markdown",
      "id": "3a64d6b804154b188c262bbd002b7d9f",
      "metadata": {},
      "source": [
        "# Lab 03: Building a Custom MCP Server\n",
        "\n",
        "## Learning Objectives\n",
        "- Consolidate your understanding of the MCPS architecture\n",
        "- Design and build a custom MCP server from scratch\n",
        "- Wrap a custom tool (a simple calculator) as an MCP resource\n",
        "- Implement an agent that uses your custom server to solve problems\n",
        "\n",
        "## Setup"
      ]
    },
    {
      "cell_type": "code",
      "execution_count": null,
      "id": "8d40a4e97b1c4173a228488e04afec9d",
      "metadata": {},
      "outputs": [],
      "source": [
        "from typing import List, Dict, Any, Callable\n",
        "from dataclasses import dataclass, field\n",
        "import operator"
      ]
    },
    {
      "cell_type": "markdown",
      "id": "581c2bae8e66447db249302adac24a1b",
      "metadata": {},
      "source": [
        "## Part 1: Defining the Custom Tool\n",
        "\n",
        "First, we need a tool to wrap. We'll create a simple calculator that can perform basic arithmetic operations. This will be the core logic our MCP server exposes."
      ]
    },
    {
      "cell_type": "code",
      "execution_count": null,
      "id": "f0b2e27ddf7744a590bd050e4a653537",
      "metadata": {},
      "outputs": [],
      "source": [
        "def calculator(a: float, b: float, op: str) -> str:\n",
        "    \"\"\"Performs a basic arithmetic operation.\"\"\"\n",
        "    operations = {\n",
        "        'add': operator.add,\n",
        "        'subtract': operator.sub,\n",
        "        'multiply': operator.mul,\n",
        "        'divide': operator.truediv\n",
        "    }\n",
        "    \n",
        "    if op not in operations:\n",
        "        return f\"Error: Invalid operation '{op}'. Must be one of {list(operations.keys())}.\"\n",
        "    \n",
        "    try:\n",
        "        result = operations[op](a, b)\n",
        "        return f'The result of {a} {op} {b} is {result}.'\n",
        "    except ZeroDivisionError:\n",
        "        return 'Error: Cannot divide by zero.'\n",
        "    except Exception as e:\n",
        "        return f'An error occurred: {e}'"
      ]
    },
    {
      "cell_type": "markdown",
      "id": "77bc3afd8bac4fec88d85947f7aafda8",
      "metadata": {},
      "source": [
        "## Part 2: Building the Custom MCP Server\n",
        "\n",
        "Now, we'll build the MCP server that will make our `calculator` tool available to an AI agent. We will reuse the server infrastructure from the previous labs."
      ]
    },
    {
      "cell_type": "code",
      "execution_count": null,
      "id": "e48d86613d3342dd9702b443388b932d",
      "metadata": {},
      "outputs": [],
      "source": [
        "# --- MCP Server Infrastructure (from Lab 01 & 02) ---\n",
        "@dataclass\n",
        "class MCPResource:\n",
        "    name: str\n",
        "    description: str\n",
        "    handler: Callable[..., Any]\n",
        "\n",
        "class CustomMCPServer:\n",
        "    def __init__(self, name: str):\n",
        "        self.name = name\n",
        "        self.resources: Dict[str, MCPResource] = {}\n",
        "\n",
        "    def register_resource(self, resource: MCPResource):\n",
        "        self.resources[resource.name] = resource\n",
        "        print(f'Registered resource \"{resource.name}\" on server \"{self.name}\".')\n",
        "\n",
        "    def list_resources(self) -> List[Dict[str, str]]:\n",
        "        return [{'name': r.name, 'description': r.description} for r in self.resources.values()]\n",
        "\n",
        "    def execute_resource(self, name: str, args: Dict) -> Any:\n",
        "        if name not in self.resources: return f'Error: Resource \"{name}\" not found.'\n",
        "        try:\n",
        "            return self.resources[name].handler(**args)\n",
        "        except Exception as e: return f'Error executing resource: {e}'\n",
        "\n",
        "# --- Create and configure our custom server ---\n",
        "\n",
        "# 1. Instantiate the server\n",
        "calculator_server = CustomMCPServer(name='calculator-mcp')\n",
        "\n",
        "# 2. Define the resource based on our tool\n",
        "calculator_resource = MCPResource(\n",
        "    name='calculate',\n",
        "    description='Performs an arithmetic calculation. Args: a (float), b (float), op (str: add, subtract, multiply, divide).',\n",
        "    handler=calculator\n",
        ")\n",
        "\n",
        "# 3. Register the resource\n",
        "calculator_server.register_resource(calculator_resource)\n",
        "\n",
        "print(\"\n",
        "Server setup complete! Available resources:\")\n",
        "print(calculator_server.list_resources())"
      ]
    },
    {
      "cell_type": "markdown",
      "id": "646d5f046daf4334bc356c8d34c61317",
      "metadata": {},
      "source": [
        "## Part 3: Building an Agent to Use the Calculator Server"
      ]
    },
    {
      "cell_type": "code",
      "execution_count": null,
      "id": "f2970247caa74b4cb85a4fbb92624139",
      "metadata": {},
      "outputs": [],
      "source": [
        "class CalculatorAgent:\n",
        "    def __init__(self, server: CustomMCPServer):\n",
        "        self.server = server\n",
        "\n",
        "    def solve_problem(self, problem: str) -> str:\n",
        "        # A mock LLM that parses the problem and generates a tool call\n",
        "        tool_call = self._parse_problem_to_tool_call(problem)\n",
        "        \n",
        "        if not tool_call:\n",
        "            return \"I can only solve simple arithmetic problems.\"\n",
        "            \n",
        "        print(f'Agent decided to call tool with args: {tool_call[\"args\"]}')\n",
        "        \n",
        "        # Execute the tool call using the server\n",
        "        result = self.server.execute_resource(tool_call['resource'], tool_call['args'])\n",
        "        return result\n",
        "\n",
        "    def _parse_problem_to_tool_call(self, problem: str) -> Dict:\n",
        "        problem = problem.lower()\n",
        "        # Simple regex-based parsing for this mock agent\n",
        "        match = re.search(r'what is (\\d+\\.?\\d*)\\s*(\\w+)\\s*(\\d+\\.?\\d*)', problem)\n",
        "        if not match:\n",
        "            return None\n",
        "        \n",
        "        a, op_str, b = match.groups()\n",
        "        op_map = {'plus': 'add', 'minus': 'subtract', 'times': 'multiply', 'divided by': 'divide'}\n",
        "        op = op_map.get(op_str)\n",
        "        \n",
        "        if not op:\n",
        "            return None\n",
        "            \n",
        "        return {\n",
        "            'server': 'calculator-mcp',\n",
        "            'resource': 'calculate',\n",
        "            'args': {'a': float(a), 'b': float(b), 'op': op}\n",
        "        }\n",
        "\n",
        "# --- Run the agent ---\n",
        "agent = CalculatorAgent(server=calculator_server)\n",
        "\n",
        "problem1 = 'What is 15 times 4?'\n",
        "result1 = agent.solve_problem(problem1)\n",
        "print(f'\\nProblem: {problem1}')\n",
        "print(f'Answer: {result1}')\n",
        "\n",
        "problem2 = 'What is 100 divided by 5?'\n",
        "result2 = agent.solve_problem(problem2)\n",
        "print(f'\\nProblem: {problem2}')\n",
        "print(f'Answer: {result2}')"
      ]
    },
    {
      "cell_type": "markdown",
      "id": "6e6e7d5045f240399cae6e03060d8ba1",
      "metadata": {},
      "source": [
        "## Exercises\n",
        "\n",
        "1. **Add a `power` Operation**: Add the ability for the `calculator` to handle exponentiation (e.g., `power` or `**`). Update the `operations` dictionary and the agent's parsing logic to handle a query like, \"What is 2 to the power of 8?\".\n",
        "2. **Create a `constants` Resource**: Add a new resource to the server called `get_constant(name: str)` that returns mathematical constants like 'pi' (3.14159) or 'e' (2.71828). Update the agent to be able to answer questions like, \"What is the value of pi?\".\n",
        "3. **Improve Agent's Robustness**: The agent's parsing logic is very fragile. Instead of using regex, try to write a prompt that would ask a real LLM to extract the numbers and operation, and return them as a JSON object. This would make the agent much more flexible.\n",
        "\n",
        "## Summary\n",
        "\n",
        "In this lab, you consolidated everything you've learned about MCPS:\n",
        "- You defined a **custom tool** with its own logic (`calculator`).\n",
        "- You built a **custom MCP server** from scratch to host your tool as a resource.\n",
        "- You created an **agent** that can understand a user's problem, generate the correct tool call for your custom server, and use the result to provide an answer.\n",
        "- This end-to-end process demonstrates the power and modularity of the MCPS architecture for building capable, tool-using AI agents."
      ]
    }
  ],
  "metadata": {
    "kernelspec": {
      "display_name": "Python 3",
      "language": "python",
      "name": "python3"
    },
    "colab": {
      "provenance": []
    }
  },
  "nbformat": 4,
  "nbformat_minor": 4
}