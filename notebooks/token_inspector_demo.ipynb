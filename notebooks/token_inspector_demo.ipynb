{
  "cells": [
    {
      "cell_type": "code",
      "metadata": {
        "id": "setup-colab-cell",
        "colab": {
          "base_uri": "https://localhost/"
        }
      },
      "source": "print('Setup complete.')",
      "outputs": [],
      "execution_count": null
    },
    {
      "cell_type": "markdown",
      "metadata": {},
      "source": [
        "# Token Inspector Demo\n",
        "\n",
        "## Learning Objectives\n",
        "- Understand how text is tokenized by different LLM models\n",
        "- Explore subword tokenization and its implications\n",
        "- See how token counts affect API costs and context limits\n",
        "- Demonstrate context window truncation behavior\n",
        "\n",
        "## Introduction to Tokenization\n",
        "\n",
        "Large Language Models don't work directly with raw text. Instead, they convert text into **tokens** - the basic units of processing. Understanding tokenization is crucial for:\n",
        "\n",
        "- **Cost estimation**: APIs charge per token\n",
        "- **Context management**: Models have token limits (e.g., 4K, 8K, 128K tokens)\n",
        "- **Performance optimization**: Fewer tokens = faster processing"
      ]
    },
    {
      "cell_type": "code",
      "execution_count": null,
      "metadata": {},
      "outputs": [
        {
          "name": "stdout",
          "output_type": "stream",
          "text": [
            "Requirement already satisfied: tiktoken in /Users/david/Documents/GitHub/generative-ai-bootcamp/.venv/lib/python3.13/site-packages (0.11.0)\n",
            "Requirement already satisfied: asksageclient in /Users/david/Documents/GitHub/generative-ai-bootcamp/.venv/lib/python3.13/site-packages (1.41)\n",
            "Requirement already satisfied: transformers in /Users/david/Documents/GitHub/generative-ai-bootcamp/.venv/lib/python3.13/site-packages (4.56.1)\n",
            "Requirement already satisfied: matplotlib in /Users/david/Documents/GitHub/generative-ai-bootcamp/.venv/lib/python3.13/site-packages (3.10.6)\n",
            "Requirement already satisfied: seaborn in /Users/david/Documents/GitHub/generative-ai-bootcamp/.venv/lib/python3.13/site-packages (0.13.2)\n",
            "Requirement already satisfied: pandas in /Users/david/Documents/GitHub/generative-ai-bootcamp/.venv/lib/python3.13/site-packages (2.3.2)\n",
            "Requirement already satisfied: regex>=2022.1.18 in /Users/david/Documents/GitHub/generative-ai-bootcamp/.venv/lib/python3.13/site-packages (from tiktoken) (2025.9.1)\n",
            "Requirement already satisfied: requests>=2.26.0 in /Users/david/Documents/GitHub/generative-ai-bootcamp/.venv/lib/python3.13/site-packages (from tiktoken) (2.32.5)\n",
            "Requirement already satisfied: filelock in /Users/david/Documents/GitHub/generative-ai-bootcamp/.venv/lib/python3.13/site-packages (from transformers) (3.19.1)\n",
            "Requirement already satisfied: huggingface-hub<1.0,>=0.34.0 in /Users/david/Documents/GitHub/generative-ai-bootcamp/.venv/lib/python3.13/site-packages (from transformers) (0.34.4)\n",
            "Requirement already satisfied: numpy>=1.17 in /Users/david/Documents/GitHub/generative-ai-bootcamp/.venv/lib/python3.13/site-packages (from transformers) (2.3.2)\n",
            "Requirement already satisfied: packaging>=20.0 in /Users/david/Documents/GitHub/generative-ai-bootcamp/.venv/lib/python3.13/site-packages (from transformers) (25.0)\n",
            "Requirement already satisfied: pyyaml>=5.1 in /Users/david/Documents/GitHub/generative-ai-bootcamp/.venv/lib/python3.13/site-packages (from transformers) (6.0.2)\n",
            "Requirement already satisfied: tokenizers<=0.23.0,>=0.22.0 in /Users/david/Documents/GitHub/generative-ai-bootcamp/.venv/lib/python3.13/site-packages (from transformers) (0.22.0)\n",
            "Requirement already satisfied: safetensors>=0.4.3 in /Users/david/Documents/GitHub/generative-ai-bootcamp/.venv/lib/python3.13/site-packages (from transformers) (0.6.2)\n",
            "Requirement already satisfied: tqdm>=4.27 in /Users/david/Documents/GitHub/generative-ai-bootcamp/.venv/lib/python3.13/site-packages (from transformers) (4.67.1)\n",
            "Requirement already satisfied: fsspec>=2023.5.0 in /Users/david/Documents/GitHub/generative-ai-bootcamp/.venv/lib/python3.13/site-packages (from huggingface-hub<1.0,>=0.34.0->transformers) (2025.9.0)\n",
            "Requirement already satisfied: typing-extensions>=3.7.4.3 in /Users/david/Documents/GitHub/generative-ai-bootcamp/.venv/lib/python3.13/site-packages (from huggingface-hub<1.0,>=0.34.0->transformers) (4.15.0)\n",
            "Requirement already satisfied: hf-xet<2.0.0,>=1.1.3 in /Users/david/Documents/GitHub/generative-ai-bootcamp/.venv/lib/python3.13/site-packages (from huggingface-hub<1.0,>=0.34.0->transformers) (1.1.9)\n",
            "Requirement already satisfied: contourpy>=1.0.1 in /Users/david/Documents/GitHub/generative-ai-bootcamp/.venv/lib/python3.13/site-packages (from matplotlib) (1.3.3)\n",
            "Requirement already satisfied: cycler>=0.10 in /Users/david/Documents/GitHub/generative-ai-bootcamp/.venv/lib/python3.13/site-packages (from matplotlib) (0.12.1)\n",
            "Requirement already satisfied: fonttools>=4.22.0 in /Users/david/Documents/GitHub/generative-ai-bootcamp/.venv/lib/python3.13/site-packages (from matplotlib) (4.59.2)\n",
            "Requirement already satisfied: kiwisolver>=1.3.1 in /Users/david/Documents/GitHub/generative-ai-bootcamp/.venv/lib/python3.13/site-packages (from matplotlib) (1.4.9)\n",
            "Requirement already satisfied: pillow>=8 in /Users/david/Documents/GitHub/generative-ai-bootcamp/.venv/lib/python3.13/site-packages (from matplotlib) (11.3.0)\n",
            "Requirement already satisfied: pyparsing>=2.3.1 in /Users/david/Documents/GitHub/generative-ai-bootcamp/.venv/lib/python3.13/site-packages (from matplotlib) (3.2.3)\n",
            "Requirement already satisfied: python-dateutil>=2.7 in /Users/david/Documents/GitHub/generative-ai-bootcamp/.venv/lib/python3.13/site-packages (from matplotlib) (2.9.0.post0)\n",
            "Requirement already satisfied: pytz>=2020.1 in /Users/david/Documents/GitHub/generative-ai-bootcamp/.venv/lib/python3.13/site-packages (from pandas) (2025.2)\n",
            "Requirement already satisfied: tzdata>=2022.7 in /Users/david/Documents/GitHub/generative-ai-bootcamp/.venv/lib/python3.13/site-packages (from pandas) (2025.2)\n",
            "Requirement already satisfied: six>=1.5 in /Users/david/Documents/GitHub/generative-ai-bootcamp/.venv/lib/python3.13/site-packages (from python-dateutil>=2.7->matplotlib) (1.17.0)\n",
            "Requirement already satisfied: charset_normalizer<4,>=2 in /Users/david/Documents/GitHub/generative-ai-bootcamp/.venv/lib/python3.13/site-packages (from requests>=2.26.0->tiktoken) (3.4.3)\n",
            "Requirement already satisfied: idna<4,>=2.5 in /Users/david/Documents/GitHub/generative-ai-bootcamp/.venv/lib/python3.13/site-packages (from requests>=2.26.0->tiktoken) (3.10)\n",
            "Requirement already satisfied: urllib3<3,>=1.21.1 in /Users/david/Documents/GitHub/generative-ai-bootcamp/.venv/lib/python3.13/site-packages (from requests>=2.26.0->tiktoken) (2.5.0)\n",
            "Requirement already satisfied: certifi>=2017.4.17 in /Users/david/Documents/GitHub/generative-ai-bootcamp/.venv/lib/python3.13/site-packages (from requests>=2.26.0->tiktoken) (2025.8.3)\n"
          ]
        }
      ],
      "source": [
        "# Install required packages for Colab\n",
        "!pip install tiktoken transformers matplotlib seaborn pandas"
      ]
    },
    {
      "cell_type": "code",
      "execution_count": null,
      "metadata": {},
      "outputs": [],
      "source": [
        "import math\n",
        "import pandas as pd\n",
        "import matplotlib.pyplot as plt\n",
        "import tiktoken\n"
      ]
    },
    {
      "cell_type": "markdown",
      "metadata": {},
      "source": [
        "## Tokenization Basics\n",
        "\n",
        "Let's start by looking at how different types of text get tokenized."
      ]
    },
    {
      "cell_type": "code",
      "execution_count": null,
      "metadata": {},
      "outputs": [],
      "source": [
        "def _resolve_encoding(preferred_model_hint: str | None = None):\n",
        "    \"\"\"\n",
        "    Resolve a usable tiktoken encoding:\n",
        "      1) encoding_for_model(preferred_model_hint) if provided & supported\n",
        "      2) get_encoding('o200k_base')  (newer)\n",
        "      3) get_encoding('cl100k_base') (widely available)\n",
        "    Returns an encoding or None if tiktoken isn't available.\n",
        "    \"\"\"\n",
        "    if tiktoken is None:\n",
        "        return None\n",
        "\n",
        "    if preferred_model_hint:\n",
        "        return tiktoken.encoding_for_model(preferred_model_hint)\n",
        "\n",
        "\n",
        "    for name in (\"o200k_base\", \"cl100k_base\"):\n",
        "        return tiktoken.get_encoding(name)\n",
        " \n",
        "\n",
        "    return None\n",
        "\n",
        "# Prefer a modern hint; fallback sequence handles environments without o200k_base\n",
        "encoding = _resolve_encoding(preferred_model_hint=\"gpt-4o-mini\")\n"
      ]
    },
    {
      "cell_type": "code",
      "execution_count": 33,
      "metadata": {},
      "outputs": [],
      "source": [
        "# Cell 2 — inspect_tokens(): count + per-token strings (explains what you saw like \"13225\")\n",
        "# Explanation:\n",
        "# - Token IDs are just integer indices into the tokenizer's BPE vocabulary.\n",
        "#   They identify subword pieces like \"Hello\", \" world\", punctuation, spaces, etc.\n",
        "#   (References: token IDs are vocabulary indices used for lookups.)  See citations in the chat.\n",
        "\n",
        "def inspect_tokens(text: str, model_hint: str | None = None, show_details: bool = True):\n",
        "    \"\"\"\n",
        "    Return (tokens, token_strings) and print summary.\n",
        "    If tiktoken isn't available, falls back to an estimate (~3.7 chars/token).\n",
        "    \"\"\"\n",
        "    enc = _resolve_encoding(model_hint) or encoding\n",
        "\n",
        "    # No tiktoken -> estimate only\n",
        "    if enc is None:\n",
        "        est_tokens = max(1, math.ceil(len(text) / 3.7))\n",
        "        print(\"[No tiktoken available] Estimated token count only.\")\n",
        "        print(f\"Text: {text!r}\")\n",
        "        print(f\"Chars: {len(text)}  |  ~Tokens: {est_tokens}  |  Ratio: {est_tokens/len(text):.2f}\")\n",
        "        return [], []\n",
        "\n",
        "    toks = enc.encode(text)\n",
        "    toks_str = []\n",
        "    for tid in toks:\n",
        "        try:\n",
        "            toks_str.append(enc.decode([tid]))\n",
        "        except Exception:\n",
        "            toks_str.append(\"<UNK>\")\n",
        "\n",
        "    print(f\"Text: {text!r}\")\n",
        "    print(f\"Chars: {len(text)}  |  Tokens: {len(toks)}  |  Ratio: {len(toks)/len(text):.2f}\")\n",
        "\n",
        "    if show_details:\n",
        "        print(\"\\nToken breakdown:\")\n",
        "        for i, (tid, piece) in enumerate(zip(toks, toks_str)):\n",
        "            display = repr(piece)[1:-1]\n",
        "            print(f\"{i:2d}: {tid:6d} → '{display}'\")\n",
        "\n",
        "    return toks, toks_str\n"
      ]
    },
    {
      "cell_type": "code",
      "execution_count": 34,
      "metadata": {},
      "outputs": [
        {
          "name": "stdout",
          "output_type": "stream",
          "text": [
            "Text: 'Hello, world!'\n",
            "Chars: 13  |  Tokens: 4  |  Ratio: 0.31\n",
            "\n",
            "Token breakdown:\n",
            " 0:  13225 → 'Hello'\n",
            " 1:     11 → ','\n",
            " 2:   2375 → ' world'\n",
            " 3:      0 → '!'\n"
          ]
        },
        {
          "data": {
            "text/plain": [
              "([13225, 11, 2375, 0], ['Hello', ',', ' world', '!'])"
            ]
          },
          "execution_count": 34,
          "metadata": {},
          "output_type": "execute_result"
        }
      ],
      "source": [
        "inspect_tokens(\"Hello, world!\", show_details=True)"
      ]
    },
    {
      "cell_type": "markdown",
      "metadata": {},
      "source": [
        "## Subword Tokenization Examples\n",
        "\n",
        "Notice how tokenization handles different scenarios:"
      ]
    },
    {
      "cell_type": "code",
      "execution_count": 35,
      "metadata": {},
      "outputs": [
        {
          "name": "stdout",
          "output_type": "stream",
          "text": [
            "Text: 'artificial intelligence'\n",
            "Chars: 23  |  Tokens: 3  |  Ratio: 0.13\n",
            "──────────────────────────────────────────────────\n",
            "Text: 'supercalifragilisticexpialidocious'\n",
            "Chars: 34  |  Tokens: 10  |  Ratio: 0.29\n",
            "──────────────────────────────────────────────────\n",
            "Text: 'AI ML NLP GPT'\n",
            "Chars: 13  |  Tokens: 4  |  Ratio: 0.31\n",
            "──────────────────────────────────────────────────\n",
            "Text: \"print('Hello, world!')\"\n",
            "Chars: 22  |  Tokens: 7  |  Ratio: 0.32\n",
            "──────────────────────────────────────────────────\n",
            "Text: '🤖🧠💻🚀'\n",
            "Chars: 4  |  Tokens: 9  |  Ratio: 2.25\n",
            "──────────────────────────────────────────────────\n",
            "Text: 'résumé naïve café'\n",
            "Chars: 17  |  Tokens: 5  |  Ratio: 0.29\n",
            "──────────────────────────────────────────────────\n",
            "Text: '123456789'\n",
            "Chars: 9  |  Tokens: 3  |  Ratio: 0.33\n",
            "──────────────────────────────────────────────────\n",
            "\n",
            "📊 Tokenization Summary:\n",
            "                              text  chars  tokens  ratio_tokens_per_char\n",
            "           artificial intelligence     23       3               0.130435\n",
            "supercalifragilisticexpialidocious     34      10               0.294118\n",
            "                     AI ML NLP GPT     13       4               0.307692\n",
            "            print('Hello, world!')     22       7               0.318182\n",
            "                              🤖🧠💻🚀      4       9               2.250000\n",
            "                 résumé naïve café     17       5               0.294118\n",
            "                         123456789      9       3               0.333333\n"
          ]
        }
      ],
      "source": [
        "test_cases = [\n",
        "    \"artificial intelligence\",            # Common words\n",
        "    \"supercalifragilisticexpialidocious\", # Long uncommon word\n",
        "    \"AI ML NLP GPT\",                      # Acronyms\n",
        "    \"print('Hello, world!')\",             # Code\n",
        "    \"🤖🧠💻🚀\",                             # Emojis\n",
        "    \"résumé naïve café\",                  # Accented characters\n",
        "    \"123456789\",                          # Numbers\n",
        "]\n",
        "\n",
        "results = []\n",
        "for text in test_cases:\n",
        "    toks, _ = inspect_tokens(text, show_details=False)\n",
        "    results.append({\n",
        "        \"text\": text,\n",
        "        \"chars\": len(text),\n",
        "        \"tokens\": len(toks),\n",
        "        \"ratio_tokens_per_char\": (len(toks) / len(text)) if len(text) else float(\"nan\"),\n",
        "    })\n",
        "    print(\"─\" * 50)\n",
        "\n",
        "df = pd.DataFrame(results)\n",
        "print(\"\\n📊 Tokenization Summary:\")\n",
        "print(df.to_string(index=False))\n"
      ]
    },
    {
      "cell_type": "markdown",
      "metadata": {},
      "source": [
        "## Context Window Limits Demo\n",
        "\n",
        "Let's simulate what happens when you approach context limits:"
      ]
    },
    {
      "cell_type": "code",
      "execution_count": 30,
      "metadata": {},
      "outputs": [
        {
          "name": "stdout",
          "output_type": "stream",
          "text": [
            "🔍 Testing context limit behavior:\n",
            "\n",
            "Original text tokens: 137\n",
            "Context limit: 50\n",
            "⚠️  Text exceeds limit by 87 tokens\n",
            "Truncated to: 50 tokens\n",
            "Lost: 87 tokens\n",
            "\n",
            "📝 Truncated text:\n",
            " Large Language Models (LLMs) have revolutionized the field of artificial intelligence by demonstrating remarkable capabilities in understanding and generating human-like text. These models, such as GPT-4, Claude, and others, are trained on vast amounts of text data and\n"
          ]
        }
      ],
      "source": [
        "def simulate_context_limit(text: str, max_tokens: int = 100, enc=None):\n",
        "    \"\"\"\n",
        "    Simulate truncating a string to a token limit.\n",
        "    Uses tiktoken if available; otherwise approximates by chars.\n",
        "    \"\"\"\n",
        "    enc = enc or encoding\n",
        "    if enc is not None:\n",
        "        toks = enc.encode(text)\n",
        "        print(f\"Original text tokens: {len(toks)}\")\n",
        "        print(f\"Context limit: {max_tokens}\")\n",
        "        if len(toks) <= max_tokens:\n",
        "            print(\"✅ Text fits within context limit\")\n",
        "            return text\n",
        "        print(f\"⚠️  Text exceeds limit by {len(toks) - max_tokens} tokens\")\n",
        "        truncated = enc.decode(toks[:max_tokens])\n",
        "        print(f\"Truncated to: {max_tokens} tokens\")\n",
        "        print(f\"Lost: {len(toks) - max_tokens} tokens\")\n",
        "        return truncated\n",
        "    else:\n",
        "        # Approx fallback: ~3.7 chars/token\n",
        "        est_tokens = max(1, math.ceil(len(text) / 3.7))\n",
        "        print(f\"(Approx) Original tokens: {est_tokens} | Limit: {max_tokens}\")\n",
        "        if est_tokens <= max_tokens:\n",
        "            print(\"✅ (Approx) Fits\")\n",
        "            return text\n",
        "        ratio = max_tokens / est_tokens\n",
        "        cut = max(1, int(len(text) * ratio))\n",
        "        print(f\"(Approx) Truncating to {cut} characters\")\n",
        "        return text[:cut]\n",
        "\n",
        "\n",
        "print(\"🔍 Testing context limit behavior:\\n\")\n",
        "truncated = simulate_context_limit(long_text, max_tokens=50, enc=encoding)\n",
        "print(\"\\n📝 Truncated text:\\n\", truncated)\n"
      ]
    },
    {
      "cell_type": "markdown",
      "metadata": {},
      "source": [
        "## Cost Estimation Helper"
      ]
    },
    {
      "cell_type": "code",
      "execution_count": 36,
      "metadata": {},
      "outputs": [
        {
          "name": "stdout",
          "output_type": "stream",
          "text": [
            "Text: 'Hello, world!'\n",
            "Chars: 13  |  Tokens: 4  |  Ratio: 0.31\n",
            "API Cost comparison (example prompt):\n",
            "     model  input_tokens  output_tokens  total_cost_usd\n",
            "gpt-5-mini             4            150        0.000301\n",
            "     gpt-5             4            150        0.001505\n"
          ]
        },
        {
          "data": {
            "image/png": "[encoded data removed]",
            "text/plain": [
              "<Figure size 640x480 with 1 Axes>"
            ]
          },
          "metadata": {},
          "output_type": "display_data"
        }
      ],
      "source": [
        "\n",
        "PRICES_PER_M = {\n",
        "    \"gpt-5\":      {\"input_per_m\": 1.25, \"output_per_m\": 10.00},\n",
        "    \"gpt-5-mini\": {\"input_per_m\": 0.25, \"output_per_m\": 2.00},\n",
        "}\n",
        "\n",
        "def api_cost(input_tokens: int, output_tokens: int, model: str) -> float:\n",
        "    \"\"\"\n",
        "    Compute API cost using OpenAI published rates (USD).\n",
        "    \"\"\"\n",
        "    if model not in PRICES_PER_M:\n",
        "        raise ValueError(f\"Unknown model: {model}\")\n",
        "    p = PRICES_PER_M[model]\n",
        "    return (input_tokens / 1_000_000) * p[\"input_per_m\"] + (output_tokens / 1_000_000) * p[\"output_per_m\"]\n",
        "\n",
        "# Example scenario: use your \"Hello, world!\" prompt for input and 150 output tokens\n",
        "hello_tokens, _ = inspect_tokens(\"Hello, world!\", show_details=False)\n",
        "example_input_tokens  = len(hello_tokens)\n",
        "example_output_tokens = 150\n",
        "\n",
        "rows = []\n",
        "for m in [\"gpt-5-mini\", \"gpt-5\"]:\n",
        "    total = api_cost(example_input_tokens, example_output_tokens, m)\n",
        "    rows.append({\n",
        "        \"model\": m,\n",
        "        \"input_tokens\": example_input_tokens,\n",
        "        \"output_tokens\": example_output_tokens,\n",
        "        \"total_cost_usd\": total\n",
        "    })\n",
        "\n",
        "cost_df = pd.DataFrame(rows)\n",
        "print(\"API Cost comparison (example prompt):\")\n",
        "print(cost_df.to_string(index=False))\n",
        "\n",
        "# Bar chart: model vs total cost\n",
        "plt.figure()\n",
        "plt.bar(cost_df[\"model\"], cost_df[\"total_cost_usd\"])\n",
        "plt.title(\"Total API Cost (Example) — GPT-5 vs GPT-5-mini\")\n",
        "plt.xlabel(\"Model\")\n",
        "plt.ylabel(\"Total Cost (USD)\")\n",
        "plt.show()\n"
      ]
    },
    {
      "cell_type": "markdown",
      "metadata": {},
      "source": [
        "## Key Takeaways\n",
        "\n",
        "From this token inspection demo, you've learned:\n",
        "\n",
        "1. **Tokenization varies by content type**:\n",
        "   - Common words: ~0.75 tokens per character\n",
        "   - Code: ~1.0 tokens per character\n",
        "   - Rare/long words: >1.0 tokens per character\n",
        "\n",
        "2. **Context limits are hard constraints**:\n",
        "   - Text gets truncated, not compressed\n",
        "   - Plan your prompts within token budgets\n",
        "\n",
        "3. **Cost scales with tokens**:\n",
        "   - Input and output tokens are priced differently\n",
        "   - Different models have different pricing\n",
        "\n",
        "4. **Practical implications**:\n",
        "   - Always count tokens for production systems\n",
        "   - Consider chunking strategies for long documents\n",
        "   - Monitor token usage for cost control\n",
        "\n",
        "## Next Steps\n",
        "\n",
        "In the next lab, you'll build a tokenization and costing calculator to practice these concepts hands-on!"
      ]
    }
  ],
  "metadata": {
    "kernelspec": {
      "display_name": ".venv",
      "language": "python",
      "name": "python3"
    },
    "language_info": {
      "codemirror_mode": {
        "name": "ipython",
        "version": 3
      },
      "file_extension": ".py",
      "mimetype": "text/x-python",
      "name": "python",
      "nbconvert_exporter": "python",
      "pygments_lexer": "ipython3",
      "version": "3.13.5"
    },
    "colab": {
      "provenance": []
    }
  },
  "nbformat": 4,
  "nbformat_minor": 4
}