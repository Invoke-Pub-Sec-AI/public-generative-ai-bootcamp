{
  "cells": [
    {
      "cell_type": "code",
      "metadata": {
        "id": "setup-colab-cell",
        "colab": {
          "base_uri": "https://localhost/"
        }
      },
      "source": "print('Setup complete.')",
      "outputs": [],
      "execution_count": null
    },
    {
      "cell_type": "markdown",
      "id": "a5ad57c7",
      "metadata": {},
      "source": [
        "# LAB 12 — Issue triage agent\n",
        "\n",
        "```\n"
      ]
    },
    {
      "cell_type": "markdown",
      "id": "26e6b02b",
      "metadata": {},
      "source": [
        "## Original CLI usage\n",
        "\n",
        "```bash\n",
        "bash\n",
        "python lessons/day-05/labs/lab-12/main.py fetch --repo owner/name\n",
        "python lessons/day-05/labs/lab-12/main.py triage\n",
        "python lessons/day-05/labs/lab-12/main.py apply\n",
        "```\n"
      ]
    },
    {
      "cell_type": "code",
      "execution_count": null,
      "id": "fecd1e5f",
      "metadata": {},
      "outputs": [],
      "source": [
        "# Environment check (adjust as needed)\n",
        "import sys, platform\n",
        "print(f'Python: {sys.version.split()[0]} on {platform.system()}')\n",
        "# If imports fail, install requirements in your environment.\n",
        "try:\n",
        "    import httpx, jinja2, rich, typer, duckdb, pandas, matplotlib  # may be subset per lab\n",
        "except Exception as e:\n",
        "    print('Optional imports missing for some labs:', e)\n"
      ]
    },
    {
      "cell_type": "code",
      "execution_count": null,
      "id": "48e7fd15",
      "metadata": {},
      "outputs": [],
      "source": [
        "#!/usr/bin/env python3\n",
        "\"\"\"LAB 12 — Issue triage agent\n",
        "\n",
        "Fetch issues, dedupe, suggest priority/owner, and propose next steps.\n",
        "\"\"\"\n",
        "# typer removed\n",
        "from rich import print\n",
        "\n",
        "\n",
        "\n",
        "def fetch(repo: str = ...):\n",
        "    print(f\"[yellow]TODO:[/] Fetch open issues from GitHub repo {repo}.\")\n",
        "\n",
        "\n",
        "def triage():\n",
        "    print(\"[yellow]TODO:[/] Dedupe issues, suggest priority/owner, and next steps.\")\n",
        "\n",
        "\n",
        "def apply():\n",
        "    print(\"[yellow]TODO:[/] Update labels/assignees/comments via GitHub API.\")\n"
      ]
    },
    {
      "cell_type": "code",
      "execution_count": null,
      "id": "488a165f",
      "metadata": {},
      "outputs": [],
      "source": [
        "# Try the functions defined above. For example, if this lab had commands like `draft()` or `apply()`:\n",
        "# draft()\n",
        "# apply()\n"
      ]
    }
  ],
  "metadata": {
    "kernelspec": {
      "display_name": "Python 3",
      "language": "python",
      "name": "python3"
    },
    "language_info": {
      "file_extension": ".py",
      "mimetype": "text/x-python",
      "name": "python"
    },
    "colab": {
      "provenance": []
    }
  },
  "nbformat": 4,
  "nbformat_minor": 5
}