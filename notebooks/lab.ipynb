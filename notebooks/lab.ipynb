{
  "cells": [
    {
      "cell_type": "code",
      "metadata": {
        "id": "setup-colab-cell",
        "colab": {
          "base_uri": "https://localhost/"
        }
      },
      "source": "print('Setup complete.')",
      "outputs": [],
      "execution_count": null
    },
    {
      "cell_type": "markdown",
      "id": "d671adc6",
      "metadata": {},
      "source": [
        "# LAB 9 — PR comment bot (AskSage + GitHub API)\n",
        "\n",
        "- Comment posted to a PR on a sample repo branch.\n"
      ]
    },
    {
      "cell_type": "markdown",
      "id": "f42c24f7",
      "metadata": {},
      "source": [
        "## Original CLI usage\n",
        "\n",
        "```bash\n",
        "bash\n",
        "python lessons/day-04/labs/lab-09/main.py summarize --base main\n",
        "```\n"
      ]
    },
    {
      "cell_type": "code",
      "execution_count": null,
      "id": "afe35574",
      "metadata": {},
      "outputs": [],
      "source": [
        "# Environment check (adjust as needed)\n",
        "import sys, platform\n",
        "print(f'Python: {sys.version.split()[0]} on {platform.system()}')\n",
        "# If imports fail, install requirements in your environment.\n",
        "try:\n",
        "    import httpx, jinja2, rich, typer, duckdb, pandas, matplotlib  # may be subset per lab\n",
        "except Exception as e:\n",
        "    print('Optional imports missing for some labs:', e)\n"
      ]
    },
    {
      "cell_type": "code",
      "execution_count": null,
      "id": "ad108f41",
      "metadata": {},
      "outputs": [],
      "source": [
        "#!/usr/bin/env python3\n",
        "\"\"\"LAB 9 — PR comment bot (AskSage + GitHub API)\n",
        "\n",
        "Summarize PR diffs, suggest tests, and flag risky files.\n",
        "\"\"\"\n",
        "# typer removed\n",
        "from rich import print\n",
        "\n",
        "\n",
        "\n",
        "def summarize(base: str = \"main\"):\n",
        "    \"\"\"Summarize diff and print a comment body (stub).\"\"\"\n",
        "    print(f\"[yellow]TODO:[/] Load diff vs {base}, draft summary, and list risky files.\")\n",
        "\n",
        "\n",
        "def post(pr: int = ...):\n",
        "    \"\"\"Post a comment to the given PR (stub).\"\"\"\n",
        "    print(f\"[yellow]TODO:[/] Use GITHUB_TOKEN to post a review comment to PR #{pr}.\")\n"
      ]
    },
    {
      "cell_type": "code",
      "execution_count": null,
      "id": "825b1ca7",
      "metadata": {},
      "outputs": [],
      "source": [
        "# Try the functions defined above. For example, if this lab had commands like `draft()` or `apply()`:\n",
        "# draft()\n",
        "# apply()\n"
      ]
    }
  ],
  "metadata": {
    "kernelspec": {
      "display_name": "Python 3",
      "language": "python",
      "name": "python3"
    },
    "language_info": {
      "file_extension": ".py",
      "mimetype": "text/x-python",
      "name": "python"
    },
    "colab": {
      "provenance": []
    }
  },
  "nbformat": 4,
  "nbformat_minor": 5
}