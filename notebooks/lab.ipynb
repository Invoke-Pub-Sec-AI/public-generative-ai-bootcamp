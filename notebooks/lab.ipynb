{
  "cells": [
    {
      "cell_type": "code",
      "metadata": {
        "id": "setup-colab-cell",
        "colab": {
          "base_uri": "https://localhost/"
        }
      },
      "source": "print('Setup complete.')",
      "outputs": [],
      "execution_count": null
    },
    {
      "cell_type": "markdown",
      "id": "0a7cdb72",
      "metadata": {},
      "source": [
        "# LAB 15 — Engineering handbook Q&A\n",
        "\n",
        "```\n"
      ]
    },
    {
      "cell_type": "markdown",
      "id": "d2bc8ed6",
      "metadata": {},
      "source": [
        "## Original CLI usage\n",
        "\n",
        "```bash\n",
        "bash\n",
        "python lessons/day-06/labs/lab-15/main.py ingest --path docs/\n",
        "python lessons/day-06/labs/lab-15/main.py query \"How do I add a CI job?\"\n",
        "```\n"
      ]
    },
    {
      "cell_type": "code",
      "execution_count": null,
      "id": "7d420f87",
      "metadata": {},
      "outputs": [],
      "source": [
        "# Environment check (adjust as needed)\n",
        "import sys, platform\n",
        "print(f'Python: {sys.version.split()[0]} on {platform.system()}')\n",
        "# If imports fail, install requirements in your environment.\n",
        "try:\n",
        "    import httpx, jinja2, rich, typer, duckdb, pandas, matplotlib  # may be subset per lab\n",
        "except Exception as e:\n",
        "    print('Optional imports missing for some labs:', e)\n"
      ]
    },
    {
      "cell_type": "code",
      "execution_count": null,
      "id": "c5bda9b2",
      "metadata": {},
      "outputs": [],
      "source": [
        "#!/usr/bin/env python3\n",
        "\"\"\"LAB 15 — Engineering handbook Q&A\n",
        "\n",
        "Ingest docs, perform hybrid search, and cite sources.\n",
        "\"\"\"\n",
        "import typer\n",
        "from rich import print\n",
        "\n",
        "\n",
        "\n",
        "def ingest(path: str = \"docs/\"):\n",
        "    print(f\"[yellow]TODO:[/] Ingest files from {path}, chunk, embed, and store index.\")\n",
        "\n",
        "\n",
        "def query(q: str = typer.Argument(...)):\n",
        "    print(f\"[yellow]TODO:[/] Hybrid search for: {q}. Return answer with citations.\")\n"
      ]
    },
    {
      "cell_type": "code",
      "execution_count": null,
      "id": "b5cb0a17",
      "metadata": {},
      "outputs": [],
      "source": [
        "# Try the functions defined above. For example, if this lab had commands like `draft()` or `apply()`:\n",
        "# draft()\n",
        "# apply()\n"
      ]
    }
  ],
  "metadata": {
    "kernelspec": {
      "display_name": "Python 3",
      "language": "python",
      "name": "python3"
    },
    "language_info": {
      "file_extension": ".py",
      "mimetype": "text/x-python",
      "name": "python"
    },
    "colab": {
      "provenance": []
    }
  },
  "nbformat": 4,
  "nbformat_minor": 5
}