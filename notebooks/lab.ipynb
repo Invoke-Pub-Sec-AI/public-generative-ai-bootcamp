{
  "cells": [
    {
      "cell_type": "code",
      "metadata": {
        "id": "setup-colab-cell",
        "colab": {
          "base_uri": "https://localhost/"
        }
      },
      "source": "print('Setup complete.')",
      "outputs": [],
      "execution_count": null
    },
    {
      "cell_type": "markdown",
      "id": "55ff28ca",
      "metadata": {},
      "source": [
        "# LAB 13 — Release notes generator\n",
        "\n",
        "```\n"
      ]
    },
    {
      "cell_type": "markdown",
      "id": "d4c85bcd",
      "metadata": {},
      "source": [
        "## Original CLI usage\n",
        "\n",
        "```bash\n",
        "bash\n",
        "python lessons/day-05/labs/lab-13/main.py generate --since v0.1.0\n",
        "python lessons/day-05/labs/lab-13/main.py save --out RELEASE_NOTES.md\n",
        "```\n"
      ]
    },
    {
      "cell_type": "code",
      "execution_count": null,
      "id": "21366238",
      "metadata": {},
      "outputs": [],
      "source": [
        "# Environment check (adjust as needed)\n",
        "import sys, platform\n",
        "print(f'Python: {sys.version.split()[0]} on {platform.system()}')\n",
        "# If imports fail, install requirements in your environment.\n",
        "try:\n",
        "    import httpx, jinja2, rich, typer, duckdb, pandas, matplotlib  # may be subset per lab\n",
        "except Exception as e:\n",
        "    print('Optional imports missing for some labs:', e)\n"
      ]
    },
    {
      "cell_type": "code",
      "execution_count": null,
      "id": "30d9504c",
      "metadata": {},
      "outputs": [],
      "source": [
        "#!/usr/bin/env python3\n",
        "\"\"\"LAB 13 — Release notes generator\n",
        "\n",
        "Generate grouped release notes from commits since a tag.\n",
        "\"\"\"\n",
        "# typer removed\n",
        "from rich import print\n",
        "\n",
        "\n",
        "\n",
        "def generate(since: str = \"\"):\n",
        "    print(f\"[yellow]TODO:[/] Group commits since '{since}' by type and render markdown.\")\n",
        "\n",
        "\n",
        "def save(out: str = \"RELEASE_NOTES.md\"):\n",
        "    print(f\"[yellow]TODO:[/] Write generated notes to {out}.\")\n"
      ]
    },
    {
      "cell_type": "code",
      "execution_count": null,
      "id": "807cb445",
      "metadata": {},
      "outputs": [],
      "source": [
        "# Try the functions defined above. For example, if this lab had commands like `draft()` or `apply()`:\n",
        "# draft()\n",
        "# apply()\n"
      ]
    }
  ],
  "metadata": {
    "kernelspec": {
      "display_name": "Python 3",
      "language": "python",
      "name": "python3"
    },
    "language_info": {
      "file_extension": ".py",
      "mimetype": "text/x-python",
      "name": "python"
    },
    "colab": {
      "provenance": []
    }
  },
  "nbformat": 4,
  "nbformat_minor": 5
}