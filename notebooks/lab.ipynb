{
  "cells": [
    {
      "cell_type": "code",
      "metadata": {
        "id": "setup-colab-cell",
        "colab": {
          "base_uri": "https://localhost/"
        }
      },
      "source": "print('Setup complete.')",
      "outputs": [],
      "execution_count": null
    },
    {
      "cell_type": "markdown",
      "id": "57105b51",
      "metadata": {},
      "source": [
        "# LAB 14 — Backlog groomer\n",
        "\n",
        "```\n"
      ]
    },
    {
      "cell_type": "markdown",
      "id": "19a598f5",
      "metadata": {},
      "source": [
        "## Original CLI usage\n",
        "\n",
        "```bash\n",
        "bash\n",
        "python lessons/day-05/labs/lab-14/main.py groom --epic EPIC-123\n",
        "```\n"
      ]
    },
    {
      "cell_type": "code",
      "execution_count": null,
      "id": "7c02c436",
      "metadata": {},
      "outputs": [],
      "source": [
        "# Environment check (adjust as needed)\n",
        "import sys, platform\n",
        "print(f'Python: {sys.version.split()[0]} on {platform.system()}')\n",
        "# If imports fail, install requirements in your environment.\n",
        "try:\n",
        "    import httpx, jinja2, rich, typer, duckdb, pandas, matplotlib  # may be subset per lab\n",
        "except Exception as e:\n",
        "    print('Optional imports missing for some labs:', e)\n"
      ]
    },
    {
      "cell_type": "code",
      "execution_count": null,
      "id": "af9dce7d",
      "metadata": {},
      "outputs": [],
      "source": [
        "#!/usr/bin/env python3\n",
        "\"\"\"LAB 14 — Backlog groomer\n",
        "\n",
        "Split epics, draft AC, detect dependencies, and open tickets.\n",
        "\"\"\"\n",
        "# typer removed\n",
        "from rich import print\n",
        "\n",
        "\n",
        "\n",
        "def groom(epic: str = ...):\n",
        "    print(f\"[yellow]TODO:[/] Propose stories, AC, estimates, and dependencies for {epic}.\")\n"
      ]
    },
    {
      "cell_type": "code",
      "execution_count": null,
      "id": "9e994f5b",
      "metadata": {},
      "outputs": [],
      "source": [
        "# Try the functions defined above. For example, if this lab had commands like `draft()` or `apply()`:\n",
        "# draft()\n",
        "# apply()\n"
      ]
    }
  ],
  "metadata": {
    "kernelspec": {
      "display_name": "Python 3",
      "language": "python",
      "name": "python3"
    },
    "language_info": {
      "file_extension": ".py",
      "mimetype": "text/x-python",
      "name": "python"
    },
    "colab": {
      "provenance": []
    }
  },
  "nbformat": 4,
  "nbformat_minor": 5
}