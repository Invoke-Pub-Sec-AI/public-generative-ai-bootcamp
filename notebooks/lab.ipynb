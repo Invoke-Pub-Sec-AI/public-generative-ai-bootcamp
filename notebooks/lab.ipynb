{
  "cells": [
    {
      "cell_type": "code",
      "metadata": {
        "id": "setup-colab-cell",
        "colab": {
          "base_uri": "https://localhost/"
        }
      },
      "source": "print('Setup complete.')",
      "outputs": [],
      "execution_count": null
    },
    {
      "cell_type": "markdown",
      "id": "aacf3831",
      "metadata": {},
      "source": [
        "# LAB 19 — “Incident scribe”\n",
        "\n",
        "```\n"
      ]
    },
    {
      "cell_type": "markdown",
      "id": "4146dcf4",
      "metadata": {},
      "source": [
        "## Original CLI usage\n",
        "\n",
        "```bash\n",
        "bash\n",
        "python lessons/day-07/labs/lab-19/main.py scribe --alert alert.json\n",
        "```\n"
      ]
    },
    {
      "cell_type": "code",
      "execution_count": null,
      "id": "d774ed7f",
      "metadata": {},
      "outputs": [],
      "source": [
        "# Environment check (adjust as needed)\n",
        "import sys, platform\n",
        "print(f'Python: {sys.version.split()[0]} on {platform.system()}')\n",
        "# If imports fail, install requirements in your environment.\n",
        "try:\n",
        "    import httpx, jinja2, rich, typer, duckdb, pandas, matplotlib  # may be subset per lab\n",
        "except Exception as e:\n",
        "    print('Optional imports missing for some labs:', e)\n"
      ]
    },
    {
      "cell_type": "code",
      "execution_count": null,
      "id": "0e6dd3eb",
      "metadata": {},
      "outputs": [],
      "source": [
        "#!/usr/bin/env python3\n",
        "\"\"\"LAB 19 — Incident scribe\n",
        "\n",
        "Turn alerts into Slack updates and Jira tickets.\n",
        "\"\"\"\n",
        "# typer removed\n",
        "from rich import print\n",
        "\n",
        "\n",
        "\n",
        "def scribe(alert: str = ...):\n",
        "    print(f\"[yellow]TODO:[/] Parse {alert}, ask for missing fields, draft Slack + Jira bodies.\")\n"
      ]
    },
    {
      "cell_type": "code",
      "execution_count": null,
      "id": "ae37f55f",
      "metadata": {},
      "outputs": [],
      "source": [
        "# Try the functions defined above. For example, if this lab had commands like `draft()` or `apply()`:\n",
        "# draft()\n",
        "# apply()\n"
      ]
    }
  ],
  "metadata": {
    "kernelspec": {
      "display_name": "Python 3",
      "language": "python",
      "name": "python3"
    },
    "language_info": {
      "file_extension": ".py",
      "mimetype": "text/x-python",
      "name": "python"
    },
    "colab": {
      "provenance": []
    }
  },
  "nbformat": 4,
  "nbformat_minor": 5
}