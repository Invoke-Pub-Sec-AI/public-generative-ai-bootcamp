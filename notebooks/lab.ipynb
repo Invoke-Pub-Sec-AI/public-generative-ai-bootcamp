{
  "cells": [
    {
      "cell_type": "code",
      "metadata": {
        "id": "setup-colab-cell",
        "colab": {
          "base_uri": "https://localhost/"
        }
      },
      "source": "print('Setup complete.')",
      "outputs": [],
      "execution_count": null
    },
    {
      "cell_type": "markdown",
      "id": "6412c927",
      "metadata": {},
      "source": [
        "# LAB 21 — Slack triage assistant\n",
        "\n",
        "```\n"
      ]
    },
    {
      "cell_type": "markdown",
      "id": "9402ff3e",
      "metadata": {},
      "source": [
        "## Original CLI usage\n",
        "\n",
        "```bash\n",
        "bash\n",
        "python lessons/day-08/labs/lab-21/main.py serve --port 8080\n",
        "```\n"
      ]
    },
    {
      "cell_type": "code",
      "execution_count": null,
      "id": "e9c0974b",
      "metadata": {},
      "outputs": [],
      "source": [
        "# Environment check (adjust as needed)\n",
        "import sys, platform\n",
        "print(f'Python: {sys.version.split()[0]} on {platform.system()}')\n",
        "# If imports fail, install requirements in your environment.\n",
        "try:\n",
        "    import httpx, jinja2, rich, typer, duckdb, pandas, matplotlib  # may be subset per lab\n",
        "except Exception as e:\n",
        "    print('Optional imports missing for some labs:', e)\n"
      ]
    },
    {
      "cell_type": "code",
      "execution_count": null,
      "id": "540568e9",
      "metadata": {},
      "outputs": [],
      "source": [
        "#!/usr/bin/env python3\n",
        "\"\"\"LAB 21 — Slack triage assistant\n",
        "\n",
        "Serve a minimal endpoint to handle /triage, summarize, and reply.\n",
        "\"\"\"\n",
        "# typer removed\n",
        "from rich import print\n",
        "\n",
        "\n",
        "\n",
        "def serve(port: int = 8080):\n",
        "    print(f\"[yellow]TODO:[/] Start a minimal HTTP server on :{port} to accept /triage.\")\n",
        "    print(\"[yellow]TODO:[/] Given a Slack thread link, fetch messages, summarize, and reply.\")\n"
      ]
    },
    {
      "cell_type": "code",
      "execution_count": null,
      "id": "9871a925",
      "metadata": {},
      "outputs": [],
      "source": [
        "# Try the functions defined above. For example, if this lab had commands like `draft()` or `apply()`:\n",
        "# draft()\n",
        "# apply()\n"
      ]
    }
  ],
  "metadata": {
    "kernelspec": {
      "display_name": "Python 3",
      "language": "python",
      "name": "python3"
    },
    "language_info": {
      "file_extension": ".py",
      "mimetype": "text/x-python",
      "name": "python"
    },
    "colab": {
      "provenance": []
    }
  },
  "nbformat": 4,
  "nbformat_minor": 5
}