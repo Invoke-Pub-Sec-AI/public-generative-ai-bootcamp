{
  "cells": [
    {
      "cell_type": "code",
      "metadata": {
        "id": "setup-colab-cell",
        "colab": {
          "base_uri": "https://localhost/"
        }
      },
      "source": "print('Setup complete.')",
      "outputs": [],
      "execution_count": null
    },
    {
      "cell_type": "markdown",
      "metadata": {},
      "source": [
        "# Code Review Bot - Hands-on Lab\n",
        "\n",
        "**Hands-on**: run on a small diff and export comments\n",
        "**Deliverable**: review JSON + before/after snippet\n",
        "\n",
        "## Instructions\n",
        "\n",
        "In this lab, you will build and test your own code review bot that:\n",
        "\n",
        "1. Analyzes a code diff for issues\n",
        "2. Generates structured review comments\n",
        "3. Applies safety language filters\n",
        "4. Exports results as JSON\n",
        "5. Provides before/after code examples\n",
        "\n",
        "## Success Criteria\n",
        "- Bot successfully processes a small code diff\n",
        "- Generated comments use appropriate severity levels\n",
        "- Safety filtering prevents inappropriate language\n",
        "- Review results exported as valid JSON\n",
        "- Before/after code snippet demonstrates improvements"
      ]
    },
    {
      "cell_type": "code",
      "metadata": {},
      "source": [
        "# TODO: Install required packages for Google Colab\n",
        "# Install: openai, langchain, langchain-openai, tiktoken, python-dotenv, GitPython\n",
        "# Import necessary modules for structured data, JSON handling, datetime\n",
        "# Import LangChain components for chat models and prompts\n",
        "# Set up your OpenAI API key"
      ],
      "execution_count": null,
      "outputs": []
    },
    {
      "cell_type": "markdown",
      "metadata": {},
      "source": [
        "## Step 1: Define Review Data Structures\n",
        "\n",
        "Create structured data models for your code review comments."
      ]
    },
    {
      "cell_type": "code",
      "metadata": {},
      "source": [
        "# TODO: Create a ReviewComment dataclass with the following fields:\n",
        "# - line_number: int\n",
        "# - severity: str (critical, major, minor, suggestion)\n",
        "# - category: str (security, performance, style, logic, documentation)\n",
        "# - message: str\n",
        "# - suggestion: Optional[str]\n",
        "# - confidence: float (0.0 to 1.0)\n",
        "\n",
        "# TODO: Create a ReviewResult dataclass with:\n",
        "# - file_path: str\n",
        "# - comments: List[ReviewComment]\n",
        "# - summary: str\n",
        "# - timestamp: str\n",
        "# - reviewer_version: str\n",
        "\n",
        "# TODO: Add a to_dict() method to ReviewResult for JSON export"
      ],
      "execution_count": null,
      "outputs": []
    },
    {
      "cell_type": "markdown",
      "metadata": {},
      "source": [
        "## Step 2: Implement Safety Language Filter\n",
        "\n",
        "Create a filter to ensure constructive and appropriate language in reviews."
      ]
    },
    {
      "cell_type": "code",
      "metadata": {},
      "source": [
        "# TODO: Create a SafetyFilter class with:\n",
        "# - inappropriate_patterns: list of regex patterns to avoid\n",
        "# - positive_alternatives: dictionary mapping negative to positive words\n",
        "# - filter_comment(comment: str) -> str: method to clean up language\n",
        "# - is_constructive(comment: str) -> bool: method to check if comment is helpful\n",
        "\n",
        "# TODO: Test the filter with sample inappropriate comments\n",
        "# Example test comments:\n",
        "# - \"This code is terrible and stupid\"\n",
        "# - \"Fix this bad implementation\"\n",
        "# - \"Consider improving the error handling here\""
      ],
      "execution_count": null,
      "outputs": []
    },
    {
      "cell_type": "markdown",
      "metadata": {},
      "source": [
        "## Step 3: Build the Code Review Bot\n",
        "\n",
        "Create the main bot class with structured prompting."
      ]
    },
    {
      "cell_type": "code",
      "metadata": {},
      "source": [
        "# TODO: Create a CodeReviewBot class with:\n",
        "# - __init__ method that initializes ChatOpenAI and SafetyFilter\n",
        "# - review_prompt: ChatPromptTemplate with system and human messages\n",
        "# - review_code(file_path, code_diff) method that returns ReviewResult\n",
        "# - _fallback_review method for error handling\n",
        "\n",
        "# TODO: Design a comprehensive system prompt that:\n",
        "# - Instructs the AI to be constructive and educational\n",
        "# - Specifies the JSON output format\n",
        "# - Lists focus areas (security, performance, style, logic, documentation)\n",
        "# - Emphasizes constructive language patterns"
      ],
      "execution_count": null,
      "outputs": []
    },
    {
      "cell_type": "markdown",
      "metadata": {},
      "source": [
        "## Step 4: Prepare Your Code Diff\n",
        "\n",
        "Create or select a small code diff to review."
      ]
    },
    {
      "cell_type": "code",
      "metadata": {},
      "source": [
        "# TODO: Create a sample code diff that contains several types of issues:\n",
        "# - Security vulnerability (e.g., SQL injection, unsafe file handling)\n",
        "# - Performance issue (e.g., inefficient loops, memory leaks)\n",
        "# - Style issue (e.g., poor naming, missing documentation)\n",
        "# - Logic issue (e.g., edge cases not handled)\n",
        "\n",
        "# TODO: Format the diff with + and - prefixes to show additions/removals\n",
        "# TODO: Store the diff as a multi-line string variable\n",
        "# TODO: Print the diff to show what will be reviewed"
      ],
      "execution_count": null,
      "outputs": []
    },
    {
      "cell_type": "markdown",
      "metadata": {},
      "source": [
        "## Step 5: Run the Code Review\n",
        "\n",
        "Execute your bot on the prepared code diff."
      ]
    },
    {
      "cell_type": "code",
      "metadata": {},
      "source": [
        "# TODO: Initialize your CodeReviewBot instance\n",
        "# TODO: Call review_code() with your sample diff and a file path\n",
        "# TODO: Handle any exceptions gracefully and test the fallback mechanism\n",
        "# TODO: Display a loading message while the review is processing"
      ],
      "execution_count": null,
      "outputs": []
    },
    {
      "cell_type": "markdown",
      "metadata": {},
      "source": [
        "## Step 6: Display Review Results\n",
        "\n",
        "Present the review results in a structured, readable format."
      ]
    },
    {
      "cell_type": "code",
      "metadata": {},
      "source": [
        "# TODO: Display review metadata (file path, timestamp, summary)\n",
        "# TODO: Show the total number of issues found\n",
        "# TODO: For each comment, display:\n",
        "#   - Issue number and line number\n",
        "#   - Severity with appropriate emoji (🚨 critical, ⚠️ major, 💡 minor, 💭 suggestion)\n",
        "#   - Category and confidence level\n",
        "#   - Message and suggestion (if provided)\n",
        "# TODO: Use clear formatting and spacing for readability"
      ],
      "execution_count": null,
      "outputs": []
    },
    {
      "cell_type": "markdown",
      "metadata": {},
      "source": [
        "## Step 7: Export Review as JSON\n",
        "\n",
        "Convert and save the review results in JSON format."
      ]
    },
    {
      "cell_type": "code",
      "metadata": {},
      "source": [
        "# TODO: Use the to_dict() method to convert ReviewResult to dictionary\n",
        "# TODO: Pretty-print the JSON using json.dumps with proper indentation\n",
        "# TODO: Save the JSON to a file with timestamp in filename\n",
        "# TODO: Display the exported JSON and confirm file save location\n",
        "# TODO: Validate that the exported JSON is well-formed"
      ],
      "execution_count": null,
      "outputs": []
    },
    {
      "cell_type": "markdown",
      "metadata": {},
      "source": [
        "## Step 8: Create Before/After Code Snippet\n",
        "\n",
        "Show how the original code can be improved based on review feedback."
      ]
    },
    {
      "cell_type": "code",
      "metadata": {},
      "source": [
        "# TODO: Extract the most critical issue from your review results\n",
        "# TODO: Show the original problematic code section\n",
        "# TODO: Write an improved version that addresses the identified issues\n",
        "# TODO: Create a clear before/after comparison with:\n",
        "#   - ❌ BEFORE (with issues)\n",
        "#   - ✅ AFTER (improved)\n",
        "#   - 🔧 Key Improvements list\n",
        "# TODO: Ensure the improved code demonstrates concrete solutions"
      ],
      "execution_count": null,
      "outputs": []
    },
    {
      "cell_type": "markdown",
      "metadata": {},
      "source": [
        "## Step 9: Test Edge Cases (Optional)\n",
        "\n",
        "Verify your bot handles various scenarios gracefully."
      ]
    },
    {
      "cell_type": "code",
      "metadata": {},
      "source": [
        "# TODO OPTIONAL: Test with an empty diff\n",
        "# TODO OPTIONAL: Test with a very large diff (>1000 lines)\n",
        "# TODO OPTIONAL: Test with non-Python code (JavaScript, SQL, etc.)\n",
        "# TODO OPTIONAL: Test with perfect code (no issues)\n",
        "# TODO OPTIONAL: Test the fallback mechanism by simulating an API error"
      ],
      "execution_count": null,
      "outputs": []
    },
    {
      "cell_type": "markdown",
      "metadata": {},
      "source": [
        "## Step 10: Validate Your Deliverables\n",
        "\n",
        "Confirm you have completed all required outputs."
      ]
    },
    {
      "cell_type": "code",
      "metadata": {},
      "source": [
        "# TODO: Verify you have generated:\n",
        "# ✅ Review JSON file with structured comments\n",
        "# ✅ Before/after code snippet showing improvements\n",
        "# ✅ Demonstration of safety language filtering\n",
        "# ✅ Working fallback mechanism\n",
        "# ✅ Proper error handling and edge case management\n",
        "\n",
        "# TODO: Display final summary of deliverables created\n",
        "# TODO: List the files generated and their locations\n",
        "# TODO: Confirm all success criteria have been met"
      ],
      "execution_count": null,
      "outputs": []
    },
    {
      "cell_type": "markdown",
      "metadata": {},
      "source": [
        "## Deliverable Checklist\n",
        "\n",
        "Before submitting, ensure your Code Review Bot lab includes:\n",
        "\n",
        "- [ ] **Review JSON**: Valid JSON file with structured comments including severity, category, message, and suggestions\n",
        "- [ ] **Before/After Snippet**: Clear demonstration of code improvement based on review feedback\n",
        "- [ ] **Safety Language**: Evidence that inappropriate language is filtered to constructive alternatives\n",
        "- [ ] **Structured Comments**: Comments follow the defined data structure with proper categorization\n",
        "- [ ] **Fallback Mechanism**: Demonstration that the bot handles errors gracefully\n",
        "- [ ] **Export Functionality**: Successfully exports review results to timestamped JSON file\n",
        "\n",
        "## Final Deliverable\n",
        "\n",
        "**Review JSON + Before/After Snippet**: A complete code review analysis exported as structured JSON, accompanied by a concrete example showing how the original code can be improved based on the bot's feedback."
      ]
    }
  ],
  "metadata": {
    "kernelspec": {
      "display_name": "Python 3",
      "language": "python",
      "name": "python3"
    },
    "language_info": {
      "codemirror_mode": {
        "name": "ipython",
        "version": 3
      },
      "file_extension": ".py",
      "mimetype": "text/x-python",
      "name": "python",
      "nbconvert_exporter": "python",
      "pygments_lexer": "ipython3",
      "version": "3.8.0"
    },
    "colab": {
      "provenance": []
    }
  },
  "nbformat": 4,
  "nbformat_minor": 4
}