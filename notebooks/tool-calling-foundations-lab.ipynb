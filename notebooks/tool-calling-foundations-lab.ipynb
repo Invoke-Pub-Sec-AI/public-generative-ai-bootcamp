{
  "cells": [
    {
      "cell_type": "code",
      "metadata": {
        "id": "setup-colab-cell",
        "colab": {
          "base_uri": "https://localhost/"
        }
      },
      "source": "print('Setup complete.')",
      "outputs": [],
      "execution_count": null
    },
    {
      "cell_type": "markdown",
      "metadata": {},
      "source": [
        "# Tool-Calling Foundations - Lab\n",
        "\n",
        "**Hands-on**: build a minimal tool pipeline using embed_query and a stub external call\n",
        "**Deliverable**: tool-call trace\n",
        "\n",
        "## Instructions\n",
        "\n",
        "In this lab, you will build a minimal tool pipeline that demonstrates proper tool calling foundations. Your pipeline should:\n",
        "\n",
        "1. Implement an embed_query tool with proper schema validation\n",
        "2. Create a stub external API call tool\n",
        "3. Build a pipeline that chains these tools together\n",
        "4. Generate comprehensive tool-call traces with logging\n",
        "\n",
        "## Success Criteria\n",
        "- Tools have well-defined schemas with validation\n",
        "- Pipeline demonstrates read vs write safety classification\n",
        "- All tool calls are properly logged with timestamps and metrics\n",
        "- Final output includes a complete tool-call trace"
      ]
    },
    {
      "cell_type": "code",
      "metadata": {},
      "source": [
        "# TODO: Install required packages for Google Colab\n",
        "# Install: openai, pydantic, langchain, langchain-openai, requests, typing-extensions\n",
        "\n",
        "# TODO: Import necessary modules for:\n",
        "# - JSON handling and logging\n",
        "# - Time and datetime utilities\n",
        "# - Type hints and validation (pydantic)\n",
        "# - OpenAI client and requests for API calls\n",
        "\n",
        "# TODO: Set up logging configuration\n",
        "# Configure logging with INFO level and timestamp format\n",
        "# Create a logger instance for tool calls\n",
        "\n",
        "# TODO: Initialize OpenAI client (remember to set API key)\n",
        "# Use environment variable or direct assignment for API key\n",
        "\n",
        "print(\"✅ Setup completed - ready to build tool pipeline!\")"
      ],
      "execution_count": null,
      "outputs": []
    },
    {
      "cell_type": "markdown",
      "metadata": {},
      "source": [
        "## Step 1: Define Tool Schemas\n",
        "\n",
        "Create Pydantic models for your tools with proper validation."
      ]
    },
    {
      "cell_type": "code",
      "metadata": {},
      "source": [
        "# TODO: Import BaseModel and Field from pydantic\n",
        "# TODO: Import typing hints (List, Dict, Any, Optional)\n",
        "\n",
        "# TODO: Create EmbedQueryTool schema\n",
        "# - text: required string field with max_length validation\n",
        "# - model: optional string field with default \"text-embedding-ada-002\"\n",
        "# - Add docstring explaining this is a READ operation\n",
        "# - Include example in schema_extra\n",
        "\n",
        "# TODO: Create ExternalAPITool schema  \n",
        "# - endpoint: required URL string\n",
        "# - method: string with choices [\"GET\", \"POST\"]\n",
        "# - payload: optional dict for request body\n",
        "# - headers: optional dict for custom headers\n",
        "# - Add docstring explaining this could be READ or write depending on method\n",
        "# - Add validator to ensure endpoint starts with http:// or https://\n",
        "\n",
        "print(\"Tool schemas defined - ready for implementation!\")"
      ],
      "execution_count": null,
      "outputs": []
    },
    {
      "cell_type": "markdown",
      "metadata": {},
      "source": [
        "## Step 2: Implement Tool Call Logger\n",
        "\n",
        "Create a logging system to track all tool calls with proper tracing."
      ]
    },
    {
      "cell_type": "code",
      "metadata": {},
      "source": [
        "# TODO: Create ToolCallLogger class\n",
        "# Initialize with logger_name parameter and empty call_history list\n",
        "# Include metrics dict to track: total_calls, successful_calls, failed_calls, read_operations, write_operations\n",
        "\n",
        "# TODO: Implement log_tool_call method\n",
        "# - Generate unique call_id using tool_name and timestamp\n",
        "# - Create call_record dict with: call_id, tool_name, operation_type, parameters, timestamp, status\n",
        "# - Add to call_history and update metrics\n",
        "# - Log INFO message with call details\n",
        "# - Return call_id for tracking\n",
        "\n",
        "# TODO: Implement log_tool_success method\n",
        "# - Find call record by call_id and update status to 'SUCCESS'\n",
        "# - Add duration_ms and result_size to record\n",
        "# - Update successful_calls metric\n",
        "# - Log success message\n",
        "\n",
        "# TODO: Implement log_tool_error method\n",
        "# - Find call record by call_id and update status to 'ERROR'\n",
        "# - Add duration_ms and error message to record\n",
        "# - Update failed_calls metric\n",
        "# - Log error message\n",
        "\n",
        "# TODO: Implement get_call_trace method\n",
        "# - Return complete call_history for tracing\n",
        "# - Include formatted summary with metrics\n",
        "\n",
        "# TODO: Initialize logger instance\n",
        "print(\"📊 Tool call logging system ready for pipeline!\")"
      ],
      "execution_count": null,
      "outputs": []
    },
    {
      "cell_type": "markdown",
      "metadata": {},
      "source": [
        "## Step 3: Implement embed_query Tool\n",
        "\n",
        "Build the embedding tool with proper validation, safety classification, and logging."
      ]
    },
    {
      "cell_type": "code",
      "metadata": {},
      "source": [
        "# TODO: Create embed_query function\n",
        "# - Accept text and model parameters\n",
        "# - Validate inputs using EmbedQueryTool schema\n",
        "# - Log tool call start with operation_type=\"READ\"\n",
        "# - Implement mock embedding generation (1536 dimensions for ada-002)\n",
        "# - Add realistic delay simulation (0.1-0.3 seconds)\n",
        "# - Handle errors properly with logging\n",
        "# - Log success with duration and result size\n",
        "# - Return embedding vector as List[float]\n",
        "\n",
        "# TODO: Test the embed_query function\n",
        "# - Call with sample text: \"What is machine learning?\"\n",
        "# - Print embedding dimensions and first 5 values\n",
        "# - Verify logging output shows READ operation\n",
        "\n",
        "print(\"✅ embed_query tool implemented and tested\")"
      ],
      "execution_count": null,
      "outputs": []
    },
    {
      "cell_type": "markdown",
      "metadata": {},
      "source": [
        "## Step 4: Implement External API Tool\n",
        "\n",
        "Create a stub external API call tool that demonstrates proper safety classification and logging."
      ]
    },
    {
      "cell_type": "code",
      "metadata": {},
      "source": [
        "# TODO: Create external_api_call function\n",
        "# - Accept endpoint, method, payload, headers parameters\n",
        "# - Validate inputs using ExternalAPITool schema\n",
        "# - Determine operation_type based on HTTP method (GET=READ, POST/PUT/DELETE=WRITE)\n",
        "# - Log tool call start with appropriate operation_type\n",
        "# - Implement STUB functionality (don't make real HTTP calls)\n",
        "# - Return mock JSON response based on endpoint\n",
        "# - Add realistic delay simulation\n",
        "# - Handle errors properly with logging\n",
        "# - Log success with duration and response size\n",
        "\n",
        "# TODO: Test the external_api_call function\n",
        "# - Test with READ operation: GET request to \"https://api.weather.com/current\"\n",
        "# - Test with WRITE operation: POST request with sample payload\n",
        "# - Verify different operation_type classifications in logs\n",
        "\n",
        "print(\"✅ external_api_call tool implemented and tested\")"
      ],
      "execution_count": null,
      "outputs": []
    },
    {
      "cell_type": "markdown",
      "metadata": {},
      "source": [
        "## Step 5: Build Tool Pipeline\n",
        "\n",
        "Create a pipeline that chains your tools together to demonstrate proper orchestration."
      ]
    },
    {
      "cell_type": "code",
      "metadata": {},
      "source": [
        "# TODO: Create ToolPipeline class\n",
        "# - Initialize with logger instance\n",
        "# - Add method to register tools with their functions\n",
        "# - Track pipeline execution steps\n",
        "\n",
        "# TODO: Implement run_pipeline method\n",
        "# - Accept a list of tool calls with parameters\n",
        "# - Execute each tool in sequence\n",
        "# - Pass output from one tool as input to next (if applicable)\n",
        "# - Log pipeline start and completion\n",
        "# - Return final result and execution trace\n",
        "\n",
        "# TODO: Create sample pipeline\n",
        "# Step 1: Generate embedding for user query using embed_query\n",
        "# Step 2: Use embedding to make external API call (simulate vector search)\n",
        "# Step 3: Make follow-up API call based on first result\n",
        "# - Use query: \"Find similar documents about AI safety\"\n",
        "# - Chain the tools together logically\n",
        "\n",
        "print(\"✅ Tool pipeline implemented and ready for execution\")"
      ],
      "execution_count": null,
      "outputs": []
    },
    {
      "cell_type": "markdown",
      "metadata": {},
      "source": [
        "## Step 6: Execute Pipeline and Generate Trace\n",
        "\n",
        "Run your tool pipeline and generate the comprehensive tool-call trace deliverable."
      ]
    },
    {
      "cell_type": "code",
      "metadata": {},
      "source": [
        "# TODO: Execute your complete tool pipeline\n",
        "# - Run the pipeline with your sample query\n",
        "# - Capture all intermediate results\n",
        "# - Collect timing information for each step\n",
        "\n",
        "# TODO: Generate comprehensive tool-call trace\n",
        "# - Get complete call history from logger\n",
        "# - Format trace with timestamps, durations, and operation types\n",
        "# - Include success/failure status for each call\n",
        "# - Show data flow between tools\n",
        "\n",
        "# TODO: Display formatted trace output\n",
        "# - Create clear headers for each section\n",
        "# - Show pipeline execution summary\n",
        "# - Include safety classification (READ vs WRITE operations)\n",
        "# - Display performance metrics\n",
        "\n",
        "print(\"🎯 Pipeline executed successfully!\")\n",
        "print(\"📊 Tool-call trace generated as deliverable\")"
      ],
      "execution_count": null,
      "outputs": []
    },
    {
      "cell_type": "markdown",
      "metadata": {},
      "source": [
        "## Step 7: Format Final Deliverable\n",
        "\n",
        "Create a professional tool-call trace that demonstrates your understanding of tool calling foundations."
      ]
    },
    {
      "cell_type": "code",
      "metadata": {},
      "source": [
        "# TODO: Create TraceFormatter class\n",
        "# - Method to format individual tool calls with proper indentation\n",
        "# - Method to format pipeline overview with summary statistics\n",
        "# - Method to format safety analysis showing READ vs WRITE operations\n",
        "# - Method to format performance metrics (durations, success rates)\n",
        "\n",
        "# TODO: Generate final formatted trace\n",
        "# Include sections for:\n",
        "# 1. Pipeline Overview (what was executed)\n",
        "# 2. Detailed Tool Call Log (chronological order)\n",
        "# 3. Safety Classification Summary\n",
        "# 4. Performance Metrics\n",
        "# 5. Recommendations for production use\n",
        "\n",
        "# TODO: Display your deliverable\n",
        "# Print the complete formatted trace\n",
        "# This is your final deliverable for the lab\n",
        "\n",
        "print(\"\\n\" + \"=\"*60)\n",
        "print(\"          TOOL-CALL TRACE DELIVERABLE\")\n",
        "print(\"=\"*60)\n",
        "# Your trace output goes here"
      ],
      "execution_count": null,
      "outputs": []
    },
    {
      "cell_type": "markdown",
      "metadata": {},
      "source": [
        "## Bonus Challenges (Optional)\n",
        "\n",
        "If you finish early, try these additional exercises to enhance your tool pipeline."
      ]
    },
    {
      "cell_type": "code",
      "metadata": {},
      "source": [
        "# TODO BONUS 1: Add retry logic with exponential backoff\n",
        "# - Implement decorator for automatic retries on tool failures\n",
        "# - Add exponential backoff with jitter\n",
        "# - Log retry attempts and final outcomes\n",
        "\n",
        "# TODO BONUS 2: Implement tool result caching\n",
        "# - Cache results from READ operations to avoid redundant calls\n",
        "# - Implement cache invalidation strategy\n",
        "# - Show cache hit/miss statistics in trace\n",
        "\n",
        "# TODO BONUS 3: Add parallel tool execution\n",
        "# - Identify tools that can run in parallel\n",
        "# - Implement concurrent execution with proper synchronization\n",
        "# - Compare performance vs sequential execution"
      ],
      "execution_count": null,
      "outputs": []
    },
    {
      "cell_type": "markdown",
      "metadata": {},
      "source": [
        "## Deliverable Checklist\n",
        "\n",
        "Before submitting, ensure your tool pipeline includes:\n",
        "\n",
        "- [ ] Well-defined tool schemas with Pydantic validation\n",
        "- [ ] Proper safety classification (READ vs WRITE operations)\n",
        "- [ ] Comprehensive logging with timestamps and metrics\n",
        "- [ ] embed_query tool implemented and tested\n",
        "- [ ] External API stub tool with proper HTTP method handling\n",
        "- [ ] Working pipeline that chains tools together\n",
        "- [ ] Complete tool-call trace with formatted output\n",
        "- [ ] Performance metrics and error handling\n",
        "\n",
        "**Final Deliverable**: A complete tool-call trace demonstrating proper tool calling foundations with embedded query generation and external API integration."
      ]
    }
  ],
  "metadata": {
    "kernelspec": {
      "display_name": "Python 3",
      "language": "python",
      "name": "python3"
    },
    "language_info": {
      "codemirror_mode": {
        "name": "ipython",
        "version": 3
      },
      "file_extension": ".py",
      "mimetype": "text/x-python",
      "name": "python",
      "nbconvert_exporter": "python",
      "pygments_lexer": "ipython3",
      "version": "3.8.0"
    },
    "colab": {
      "provenance": []
    }
  },
  "nbformat": 4,
  "nbformat_minor": 4
}