{
  "cells": [
    {
      "cell_type": "code",
      "metadata": {
        "id": "setup-colab-cell",
        "colab": {
          "base_uri": "https://localhost/"
        }
      },
      "source": "print('Setup complete.')",
      "outputs": [],
      "execution_count": null
    },
    {
      "cell_type": "markdown",
      "id": "08ddcde26cd04d6eb91e170151ed5d55",
      "metadata": {},
      "source": [
        "# Lab 01: Introduction to MCPS (Model-centric Protocol Suite)\n",
        "\n",
        "## Learning Objectives\n",
        "- Understand what MCPS is and why it's important for building advanced agents\n",
        "- Learn about the core components: MCP Servers, Resources, and Tools\n",
        "- Implement a mock MCP Server and register a simple tool\n",
        "- Write code to list and interact with resources from the server\n",
        "\n",
        "## Setup"
      ]
    },
    {
      "cell_type": "code",
      "execution_count": null,
      "id": "1347f18bbddf451aa7b654e5cb5ea80f",
      "metadata": {},
      "outputs": [],
      "source": [
        "from typing import List, Dict, Any, Callable\n",
        "from dataclasses import dataclass, field"
      ]
    },
    {
      "cell_type": "markdown",
      "id": "4133dd76b9cc4658af4587af204e9012",
      "metadata": {},
      "source": [
        "## Part 1: Core Concepts of MCPS\n",
        "\n",
        "MCPS is a standardized way for AI models (like LLMs) to interact with the outside world. It provides a structured protocol for discovering and using external tools and services.\n",
        "\n",
        "- **MCP Server**: A service that exposes a set of capabilities. For example, a `git` server could expose tools for cloning repos and committing files.\n",
        "- **Resource**: A specific capability or function exposed by a server. This is often called a 'tool' in other contexts (like OpenAI's function calling).\n",
        "- **Tool Call**: The action of an AI model requesting to use a specific resource with certain arguments."
      ]
    },
    {
      "cell_type": "code",
      "execution_count": null,
      "id": "456dea7c09b74b27a8466ee34f926563",
      "metadata": {},
      "outputs": [],
      "source": [
        "# --- Mock Tool Implementation ---\n",
        "def get_server_time() -> str:\n",
        "    \"\"\"A simple tool that returns the current server time.\"\"\"\n",
        "    from datetime import datetime\n",
        "    return datetime.now().isoformat()\n",
        "\n",
        "# --- Mock MCP Server ---\n",
        "@dataclass\n",
        "class MCPResource:\n",
        "    name: str\n",
        "    description: str\n",
        "    handler: Callable[[], Any]\n",
        "\n",
        "class MockMCPServer:\n",
        "    def __init__(self, name: str):\n",
        "        self.name = name\n",
        "        self.resources: Dict[str, MCPResource] = {}\n",
        "\n",
        "    def register_resource(self, resource: MCPResource):\n",
        "        \"\"\"Makes a tool available through the server.\"\"\"\n",
        "        self.resources[resource.name] = resource\n",
        "        print(f'Registered resource \"{resource.name}\" on server \"{self.name}\".')\n",
        "\n",
        "    def list_resources(self) -> List[Dict[str, str]]:\n",
        "        \"\"\"Lists the available tools and their descriptions.\"\"\"\n",
        "        return [{'name': r.name, 'description': r.description} for r in self.resources.values()]\n",
        "\n",
        "    def execute_resource(self, name: str, args: Dict = None) -> Any:\n",
        "        \"\"\"Executes a tool by its name.\"\"\"\n",
        "        if name not in self.resources:\n",
        "            return f'Error: Resource \"{name}\" not found.'\n",
        "        \n",
        "        handler = self.resources[name].handler\n",
        "        try:\n",
        "            return handler(**(args or {}))\n",
        "        except Exception as e:\n",
        "            return f'Error executing resource \"{name}\": {e}'"
      ]
    },
    {
      "cell_type": "markdown",
      "id": "0bbd3859233d4e8194a5b89cd64a298f",
      "metadata": {},
      "source": [
        "## Part 2: Setting Up and Interacting with a Server"
      ]
    },
    {
      "cell_type": "code",
      "execution_count": null,
      "id": "9fa74bf22dad42b396ec63183e0fd1c3",
      "metadata": {},
      "outputs": [],
      "source": [
        "# 1. Initialize the server\n",
        "system_tools_server = MockMCPServer(name='system-tools')\n",
        "\n",
        "# 2. Create and register a resource\n",
        "time_resource = MCPResource(\n",
        "    name='get_server_time',\n",
        "    description='Returns the current ISO-formatted server time.',\n",
        "    handler=get_server_time\n",
        ")\n",
        "system_tools_server.register_resource(time_resource)\n",
        "\n",
        "# 3. An agent discovers the available tools\n",
        "print(\"--- Agent discovers available resources ---\")\n",
        "available_resources = system_tools_server.list_resources()\n",
        "print(available_resources)\n",
        "\n",
        "# 4. An agent decides to use a tool and executes it\n",
        "print(\"--- Agent executes a resource ---\")\n",
        "# This would typically be triggered by an LLM's function call output\n",
        "tool_to_call = 'get_server_time'\n",
        "result = system_tools_server.execute_resource(tool_to_call)\n",
        "print(f'Result of calling \"{tool_to_call}\": {result}')"
      ]
    },
    {
      "cell_type": "markdown",
      "id": "7b2befe475964c80af8bf30c9098a5d5",
      "metadata": {},
      "source": [
        "## Part 3: A Mock Agent using the MCPS Server"
      ]
    },
    {
      "cell_type": "code",
      "execution_count": null,
      "id": "eb1525089e744bb7a7789e76023f5129",
      "metadata": {},
      "outputs": [],
      "source": [
        "class MCPSAgent:\n",
        "    def __init__(self, server: MockMCPServer):\n",
        "        self.server = server\n",
        "\n",
        "    def process_query(self, query: str) -> str:\n",
        "        # Mock LLM logic: if the query asks for the time, use the tool.\n",
        "        if 'time' in query.lower():\n",
        "            print('Agent decided to use the get_server_time tool.')\n",
        "            # In a real system, this would be a structured tool call\n",
        "            tool_name = 'get_server_time'\n",
        "            \n",
        "            # Execute and get the observation\n",
        "            observation = self.server.execute_resource(tool_name)\n",
        "            \n",
        "            # Formulate a final response\n",
        "            return f'The current server time is {observation}.'\n",
        "        return \"I can't answer that, but I can get the server time.\"\n",
        "\n",
        "# --- Run the agent ---\n",
        "agent = MCPSAgent(server=system_tools_server)\n",
        "user_query = 'What time is it on the server?'\n",
        "response = agent.process_query(user_query)\n",
        "\n",
        "print(f'\\nUser Query: {user_query}')\n",
        "print(f'Agent Response: {response}')"
      ]
    },
    {
      "cell_type": "markdown",
      "id": "233f979d41204341acbfeded95b63703",
      "metadata": {},
      "source": [
        "## Exercises\n",
        "\n",
        "1. **Register a New Resource**: Create a new function called `get_server_name()` that returns the server's name. Create a new `MCPResource` for it and register it with the `system_tools_server`. Then, modify the `MCPSAgent` to handle a query like, \"What is the server's name?\".\n",
        "2. **Add a Resource with Arguments**: Create a new function `echo(message: str) -> str` that simply returns the message it was given. Register it as a resource. You will need to modify `MCPResource` and `execute_resource` to handle arguments. Finally, update the agent to use this tool for a query like, \"Echo this message: Hello, world!\".\n",
        "3. **Create a Second Server**: Instantiate a second `MockMCPServer` called `file-system-server`. Create and register a `list_files(path: str)` tool on it. This demonstrates how an agent could connect to multiple MCP servers to access different domains of functionality.\n",
        "\n",
        "## Summary\n",
        "\n",
        "You learned:\n",
        "- **MCPS** provides a standardized interface between AI models and external tools.\n",
        "- An **MCP Server** acts as a gateway, exposing a collection of **Resources** (tools).\n",
        "- An agent can **discover** what tools are available by listing resources and then **execute** them to perform actions or gather information.\n",
        "- This architecture decouples the AI's reasoning from the tool's implementation, making the system more modular and scalable."
      ]
    }
  ],
  "metadata": {
    "kernelspec": {
      "display_name": "Python 3",
      "language": "python",
      "name": "python3"
    },
    "colab": {
      "provenance": []
    }
  },
  "nbformat": 4,
  "nbformat_minor": 4
}