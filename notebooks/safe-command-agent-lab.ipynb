{
  "cells": [
    {
      "cell_type": "code",
      "metadata": {
        "id": "setup-colab-cell",
        "colab": {
          "base_uri": "https://localhost/"
        }
      },
      "source": "print('Setup complete.')",
      "outputs": [],
      "execution_count": null
    },
    {
      "cell_type": "markdown",
      "id": "1",
      "metadata": {},
      "source": [
        "# Safe Command-Line Agent - Hands-On Lab\n",
        "\n",
        "**Student Name:** ___________________\n",
        "\n",
        "**Objective:** Build a safe command-line agent that can execute shell commands with security controls.\n",
        "\n",
        "**Allowed Commands:** `ls`, `cat`, `grep -n`, `find`\n",
        "\n",
        "**Deliverables:**\n",
        "1. Working SafeCommandExecutor class\n",
        "2. Working ReadOnlyCommandAgent class \n",
        "3. Command log + short summary of findings\n",
        "\n",
        "**Time Limit:** 90 minutes\n",
        "\n",
        "**Instructions:** Follow the comments in each cell to implement the solution step by step."
      ]
    },
    {
      "cell_type": "code",
      "execution_count": null,
      "id": "2",
      "metadata": {},
      "outputs": [],
      "source": [
        "# Cell 1: Import Required Libraries\n",
        "# TODO: Import the following modules:\n",
        "# - subprocess (for running shell commands)\n",
        "# - os (for file system operations)\n",
        "# - re (for regular expressions)\n",
        "# - typing: List, Dict, Tuple, Optional (for type hints)\n",
        "# - json (for data handling)\n",
        "# - pathlib.Path (for path operations)\n",
        "\n",
        "# YOUR CODE HERE:"
      ]
    },
    {
      "cell_type": "code",
      "execution_count": null,
      "id": "3",
      "metadata": {},
      "outputs": [],
      "source": [
        "# Cell 2: Create SafeCommandExecutor Class Structure\n",
        "# TODO: Create a class called SafeCommandExecutor with:\n",
        "# - __init__ method that takes working_directory parameter (default \".\")\n",
        "# - Store working_directory as absolute path using os.path.abspath()\n",
        "# - Initialize empty command_log list\n",
        "# - Create allowed_commands dictionary with regex patterns for: ls, cat, grep, find\n",
        "#\n",
        "# Regex patterns should match:\n",
        "# - ls: 'ls' optionally followed by flags (-alhtrS) and optional path\n",
        "# - cat: 'cat' followed by required filename\n",
        "# - grep: 'grep -n' followed by pattern and filename\n",
        "# - find: 'find' followed by path, '-name', and pattern\n",
        "\n",
        "# YOUR CODE HERE:"
      ]
    },
    {
      "cell_type": "code",
      "execution_count": null,
      "id": "4",
      "metadata": {},
      "outputs": [],
      "source": [
        "# Cell 3: Implement Command Validation\n",
        "# TODO: Add validate_command method to SafeCommandExecutor:\n",
        "# - Takes command string as parameter\n",
        "# - Returns Tuple[bool, str] (is_valid, message)\n",
        "# - Check for dangerous patterns: ';', '|', '&', '>', '<', '$(', '`', 'rm', 'mv', 'cp', 'chmod', 'sudo'\n",
        "# - If dangerous pattern found, return False with error message\n",
        "# - Check if command matches any allowed_commands regex patterns\n",
        "# - If match found, return True with success message\n",
        "# - If no match, return False with \"Command not in whitelist\" message\n",
        "\n",
        "# YOUR CODE HERE:"
      ]
    },
    {
      "cell_type": "code",
      "execution_count": null,
      "id": "5",
      "metadata": {},
      "outputs": [],
      "source": [
        "# Cell 4: Implement Command Execution\n",
        "# TODO: Add execute_command method to SafeCommandExecutor:\n",
        "# - Takes command string as parameter\n",
        "# - Returns Dict with keys: command, valid, validation_msg, output, error, success\n",
        "# - Call validate_command first\n",
        "# - If invalid, set error message and return result\n",
        "# - If valid, use subprocess.run() with:\n",
        "#   - shell=True\n",
        "#   - cwd=self.working_directory\n",
        "#   - capture_output=True\n",
        "#   - text=True\n",
        "#   - timeout=30\n",
        "# - Handle TimeoutExpired and other exceptions\n",
        "# - Store result in command_log\n",
        "# - Return result dictionary\n",
        "\n",
        "# YOUR CODE HERE:"
      ]
    },
    {
      "cell_type": "code",
      "execution_count": null,
      "id": "6",
      "metadata": {},
      "outputs": [],
      "source": [
        "# Cell 5: Add Command Log Method\n",
        "# TODO: Add get_command_log method to SafeCommandExecutor:\n",
        "# - Returns copy of command_log list\n",
        "# - Use .copy() method to prevent external modification\n",
        "\n",
        "# YOUR CODE HERE:"
      ]
    },
    {
      "cell_type": "code",
      "execution_count": null,
      "id": "7",
      "metadata": {},
      "outputs": [],
      "source": [
        "# Cell 6: Create ReadOnlyCommandAgent Class Structure\n",
        "# TODO: Create ReadOnlyCommandAgent class with:\n",
        "# - __init__ method taking working_directory parameter\n",
        "# - Create SafeCommandExecutor instance and store as self.executor\n",
        "# - Initialize empty findings list\n",
        "\n",
        "# YOUR CODE HERE:"
      ]
    },
    {
      "cell_type": "code",
      "execution_count": null,
      "id": "8",
      "metadata": {},
      "outputs": [],
      "source": [
        "# Cell 7: Implement Directory Exploration\n",
        "# TODO: Add explore_directory method to ReadOnlyCommandAgent:\n",
        "# - Takes path parameter (default \".\")\n",
        "# - Print exploration message with emoji\n",
        "# - Execute \"ls -la {path}\" command using self.executor\n",
        "# - If successful, print and return output\n",
        "# - If error, print error message and return empty string\n",
        "\n",
        "# YOUR CODE HERE:"
      ]
    },
    {
      "cell_type": "code",
      "execution_count": null,
      "id": "9",
      "metadata": {},
      "outputs": [],
      "source": [
        "# Cell 8: Implement File Finding\n",
        "# TODO: Add find_files_by_name method to ReadOnlyCommandAgent:\n",
        "# - Takes pattern and search_path parameters\n",
        "# - Print search message\n",
        "# - Execute \"find {search_path} -name '{pattern}'\" command\n",
        "# - If successful:\n",
        "#   - Split output by newlines and filter empty lines\n",
        "#   - Print found files count\n",
        "#   - Print first 10 files (limit output)\n",
        "#   - Return list of files\n",
        "# - If error, print error and return empty list\n",
        "\n",
        "# YOUR CODE HERE:"
      ]
    },
    {
      "cell_type": "code",
      "execution_count": null,
      "id": "10",
      "metadata": {},
      "outputs": [],
      "source": [
        "# Cell 9: Implement File Search\n",
        "# TODO: Add search_in_file method to ReadOnlyCommandAgent:\n",
        "# - Takes filepath and pattern parameters\n",
        "# - Print search message\n",
        "# - Execute \"grep -n '{pattern}' {filepath}\" command\n",
        "# - If successful:\n",
        "#   - Split output and filter empty lines\n",
        "#   - Print matches count\n",
        "#   - Print first 5 matches (limit output)\n",
        "#   - Return list of matches\n",
        "# - If no matches or error, print message and return empty list\n",
        "\n",
        "# YOUR CODE HERE:"
      ]
    },
    {
      "cell_type": "code",
      "execution_count": null,
      "id": "11",
      "metadata": {},
      "outputs": [],
      "source": [
        "# Cell 10: Implement File Preview\n",
        "# TODO: Add read_file_preview method to ReadOnlyCommandAgent:\n",
        "# - Takes filepath and lines parameters (lines default 20)\n",
        "# - Print preview message\n",
        "# - Execute \"cat {filepath}\" command\n",
        "# - If successful:\n",
        "#   - Split content into lines\n",
        "#   - Show only first {lines} lines\n",
        "#   - Add \"showing first X of Y lines\" message if truncated\n",
        "#   - Print preview and return full content\n",
        "# - If error, print error message and return empty string\n",
        "\n",
        "# YOUR CODE HERE:"
      ]
    },
    {
      "cell_type": "code",
      "execution_count": null,
      "id": "12",
      "metadata": {},
      "outputs": [],
      "source": [
        "# Cell 11: Implement Symbol Location (Part 1)\n",
        "# TODO: Add locate_symbol method to ReadOnlyCommandAgent:\n",
        "# - Takes symbol and search_path parameters\n",
        "# - Print header with symbol name\n",
        "# - Create findings dictionary with keys: symbol, search_path, files_found, matches, summary\n",
        "# - Step 1: Find Python files using find_files_by_name with \"*.py\" pattern\n",
        "# - Store found files in findings['files_found']\n",
        "\n",
        "# YOUR CODE HERE:"
      ]
    },
    {
      "cell_type": "code",
      "execution_count": null,
      "id": "13",
      "metadata": {},
      "outputs": [],
      "source": [
        "# Cell 12: Implement Symbol Location (Part 2)\n",
        "# TODO: Continue locate_symbol method:\n",
        "# - Step 2: Search for symbol in each Python file (limit to first 20 files)\n",
        "# - For each file with matches, append to findings['matches'] with structure:\n",
        "#   {'file': filepath, 'matches': match_list}\n",
        "# - Count total matches across all files\n",
        "\n",
        "# YOUR CODE HERE:"
      ]
    },
    {
      "cell_type": "code",
      "execution_count": null,
      "id": "14",
      "metadata": {},
      "outputs": [],
      "source": [
        "# Cell 13: Implement Symbol Location (Part 3)\n",
        "# TODO: Complete locate_symbol method:\n",
        "# - Step 3: Generate summary with:\n",
        "#   - Search path\n",
        "#   - Number of Python files found\n",
        "#   - Number of files with matches\n",
        "#   - Total number of matches\n",
        "#   - List of top 5 files with matches\n",
        "# - Store summary in findings['summary']\n",
        "# - Print summary\n",
        "# - Append findings to self.findings\n",
        "# - Return findings dictionary\n",
        "\n",
        "# YOUR CODE HERE:"
      ]
    },
    {
      "cell_type": "code",
      "execution_count": null,
      "id": "15",
      "metadata": {},
      "outputs": [],
      "source": [
        "# Cell 14: Implement Report Generation\n",
        "# TODO: Add generate_report method to ReadOnlyCommandAgent:\n",
        "# - Create report with markdown headers\n",
        "# - Add current timestamp using datetime\n",
        "# - Add command execution log section:\n",
        "#   - List each command with success/error status\n",
        "#   - Use ✅ for success, ❌ for errors\n",
        "#   - Include error messages for failed commands\n",
        "# - Add search results summary section:\n",
        "#   - Include each finding's symbol and summary\n",
        "# - Return complete report as string\n",
        "\n",
        "# YOUR CODE HERE:"
      ]
    },
    {
      "cell_type": "code",
      "execution_count": null,
      "id": "16",
      "metadata": {},
      "outputs": [],
      "source": [
        "# Cell 15: Test Your Agent - Initialization\n",
        "# TODO: Create instance of ReadOnlyCommandAgent:\n",
        "# - Use current directory or bootcamp directory as working directory\n",
        "# - Print initialization message\n",
        "# - Print security message about allowed commands\n",
        "\n",
        "# YOUR CODE HERE:"
      ]
    },
    {
      "cell_type": "code",
      "execution_count": null,
      "id": "17",
      "metadata": {},
      "outputs": [],
      "source": [
        "# Cell 16: Test Your Agent - Directory Exploration\n",
        "# TODO: Test directory exploration:\n",
        "# - Use explore_directory method to list current directory contents\n",
        "# - Print section header\n",
        "\n",
        "# YOUR CODE HERE:"
      ]
    },
    {
      "cell_type": "code",
      "execution_count": null,
      "id": "18",
      "metadata": {},
      "outputs": [],
      "source": [
        "# Cell 17: Test Your Agent - File Finding\n",
        "# TODO: Test file finding:\n",
        "# - Use find_files_by_name to find all Python files (\"*.py\")\n",
        "# - Store result in variable for next steps\n",
        "# - Print section header\n",
        "\n",
        "# YOUR CODE HERE:"
      ]
    },
    {
      "cell_type": "code",
      "execution_count": null,
      "id": "19",
      "metadata": {},
      "outputs": [],
      "source": [
        "# Cell 18: Test Your Agent - Symbol Location\n",
        "# TODO: Test symbol location:\n",
        "# - Choose a target symbol to search for (e.g., \"class\", \"def\", \"import\", or specific function name)\n",
        "# - Use locate_symbol method to find the symbol\n",
        "# - Store result for report generation\n",
        "# - Print section header\n",
        "\n",
        "# TARGET SYMBOL: _______________  (fill in your choice)\n",
        "\n",
        "# YOUR CODE HERE:"
      ]
    },
    {
      "cell_type": "code",
      "execution_count": null,
      "id": "20",
      "metadata": {},
      "outputs": [],
      "source": [
        "# Cell 19: Test Your Agent - File Preview\n",
        "# TODO: Test file preview:\n",
        "# - If symbol search found matches, preview the first matching file\n",
        "# - Otherwise, preview README.md or any available file\n",
        "# - Limit preview to 15 lines\n",
        "# - Print section header\n",
        "\n",
        "# YOUR CODE HERE:"
      ]
    },
    {
      "cell_type": "code",
      "execution_count": null,
      "id": "21",
      "metadata": {},
      "outputs": [],
      "source": [
        "# Cell 20: Security Testing\n",
        "# TODO: Test security by attempting dangerous commands:\n",
        "# - Create list of dangerous commands to test\n",
        "# - Try executing each command using your executor\n",
        "# - Verify they are all rejected\n",
        "# - Print results showing which commands were blocked\n",
        "#\n",
        "# Suggested dangerous commands to test:\n",
        "# - \"rm -rf /\"\n",
        "# - \"ls; echo dangerous\"\n",
        "# - \"cat file.txt > output.txt\"\n",
        "# - \"grep pattern file && rm file\"\n",
        "\n",
        "# YOUR CODE HERE:"
      ]
    },
    {
      "cell_type": "code",
      "execution_count": null,
      "id": "22",
      "metadata": {},
      "outputs": [],
      "source": [
        "# Cell 21: Generate Final Report\n",
        "# TODO: Generate and display final report:\n",
        "# - Call generate_report method\n",
        "# - Print the complete report\n",
        "# - Save report to file \"command_log_report.md\"\n",
        "# - Print success message with filename\n",
        "\n",
        "# YOUR CODE HERE:"
      ]
    },
    {
      "cell_type": "markdown",
      "id": "23",
      "metadata": {},
      "source": [
        "## Lab Summary\n",
        "\n",
        "**Instructions:** Fill out this section after completing the lab.\n",
        "\n",
        "### Target Symbol Searched: \n",
        "___________________\n",
        "\n",
        "### Number of Files Found Containing Symbol:\n",
        "___________________\n",
        "\n",
        "### Total Number of Matches:\n",
        "___________________\n",
        "\n",
        "### Key Findings (2-3 sentences):\n",
        "________________________________________________________________\n",
        "________________________________________________________________\n",
        "________________________________________________________________\n",
        "\n",
        "### Security Test Results:\n",
        "- [ ] All dangerous commands were successfully blocked\n",
        "- [ ] Agent only executed whitelisted commands\n",
        "- [ ] Command log shows all attempted commands\n",
        "\n",
        "### Challenges Encountered:\n",
        "________________________________________________________________\n",
        "________________________________________________________________\n",
        "\n",
        "### What You Learned:\n",
        "1. _______________________________________________________________\n",
        "2. _______________________________________________________________\n",
        "3. _______________________________________________________________\n",
        "\n",
        "**Student Signature:** _____________________ **Date:** __________"
      ]
    }
  ],
  "metadata": {
    "kernelspec": {
      "display_name": "Python 3",
      "language": "python",
      "name": "python3"
    },
    "language_info": {
      "codemirror_mode": {
        "name": "ipython",
        "version": 3
      },
      "file_extension": ".py",
      "mimetype": "text/x-python",
      "name": "python",
      "nbconvert_exporter": "python",
      "pygments_lexer": "ipython3",
      "version": "3.8.5"
    },
    "colab": {
      "provenance": []
    }
  },
  "nbformat": 4,
  "nbformat_minor": 5
}